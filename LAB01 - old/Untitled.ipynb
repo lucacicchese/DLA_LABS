{
 "cells": [
  {
   "cell_type": "markdown",
   "id": "4d1ba7ab-b3a2-43b3-ba26-08ee7f3ba7ec",
   "metadata": {},
   "source": [
    "# Pipeline test"
   ]
  },
  {
   "cell_type": "code",
   "execution_count": 1,
   "id": "35b83eaa-7839-4fe4-8053-b12bea900f06",
   "metadata": {},
   "outputs": [
    {
     "name": "stderr",
     "output_type": "stream",
     "text": [
      "/Users/luca/anaconda3/envs/DLA/lib/python3.13/site-packages/torchvision/models/_utils.py:208: UserWarning: The parameter 'pretrained' is deprecated since 0.13 and may be removed in the future, please use 'weights' instead.\n",
      "  warnings.warn(\n",
      "/Users/luca/anaconda3/envs/DLA/lib/python3.13/site-packages/torchvision/models/_utils.py:223: UserWarning: Arguments other than a weight enum or `None` for 'weights' are deprecated since 0.13 and may be removed in the future. The current behavior is equivalent to passing `weights=ResNet18_Weights.IMAGENET1K_V1`. You can also use `weights=ResNet18_Weights.DEFAULT` to get the most up-to-date weights.\n",
      "  warnings.warn(msg)\n",
      "Downloading: \"https://download.pytorch.org/models/resnet18-f37072fd.pth\" to /Users/luca/.cache/torch/hub/checkpoints/resnet18-f37072fd.pth\n",
      "100%|██████████████████████████████████████| 44.7M/44.7M [00:04<00:00, 11.5MB/s]\n"
     ]
    },
    {
     "name": "stdout",
     "output_type": "stream",
     "text": [
      "torch.Size([1, 1, 128, 128])\n",
      "torch.Size([1, 256])\n"
     ]
    }
   ],
   "source": [
    "import torch\n",
    "import torch.nn as nn\n",
    "import torchvision.models as models\n",
    "import torch.nn.functional as F\n",
    "\n",
    "# ResNet18 Feature Extractor Block\n",
    "class ResNet18Block(nn.Module):\n",
    "    def __init__(self):\n",
    "        super(ResNet18Block, self).__init__()\n",
    "        resnet = models.resnet18(pretrained=True)\n",
    "        self.feature_extractor = nn.Sequential(*list(resnet.children())[:-2])  # Remove FC layer and AvgPool\n",
    "    \n",
    "    def forward(self, x):\n",
    "        return self.feature_extractor(x)\n",
    "\n",
    "# 2D Attention Module\n",
    "class AttentionModule(nn.Module):\n",
    "    def __init__(self, input_dim, hidden_dim):\n",
    "        super(AttentionModule, self).__init__()\n",
    "        self.w_f = nn.Conv2d(input_dim, hidden_dim, kernel_size=1)\n",
    "        self.w_h = nn.Linear(input_dim, hidden_dim)\n",
    "        self.w_att = nn.Linear(hidden_dim, 1)\n",
    "        \n",
    "    def forward(self, feature_map, pooled_feature):\n",
    "        batch_size, channels, height, width = feature_map.size()\n",
    "        reshaped_feature_map = feature_map.view(batch_size, channels, height * width).permute(0, 2, 1)  # (N, H*W, C)\n",
    "        \n",
    "        feature_out = self.w_f(feature_map).view(batch_size, -1, height * width).permute(0, 2, 1)  # (N, H*W, hidden_dim)\n",
    "        pooled_out = self.w_h(pooled_feature).unsqueeze(1)  # (N, 1, hidden_dim)\n",
    "        \n",
    "        attention_scores = F.tanh(feature_out + pooled_out)\n",
    "        attention_weights = F.softmax(self.w_att(attention_scores), dim=1)\n",
    "        \n",
    "        attended_output = torch.bmm(attention_weights.permute(0, 2, 1), feature_out)  # (N, 1, hidden_dim)\n",
    "        attended_output = attended_output.squeeze(1)\n",
    "        \n",
    "        return attended_output\n",
    "\n",
    "# U-Net-style Decoder\n",
    "class UNetDecoder(nn.Module):\n",
    "    def __init__(self, input_dim):\n",
    "        super(UNetDecoder, self).__init__()\n",
    "        \n",
    "        self.upconv1 = nn.ConvTranspose2d(input_dim, 256, kernel_size=2, stride=2)\n",
    "        self.conv1 = nn.Conv2d(256, 256, kernel_size=3, padding=1)\n",
    "        self.upconv2 = nn.ConvTranspose2d(256, 128, kernel_size=2, stride=2)\n",
    "        self.conv2 = nn.Conv2d(128, 128, kernel_size=3, padding=1)\n",
    "        self.upconv3 = nn.ConvTranspose2d(128, 64, kernel_size=2, stride=2)\n",
    "        self.conv3 = nn.Conv2d(64, 64, kernel_size=3, padding=1)\n",
    "        self.upconv4 = nn.ConvTranspose2d(64, 32, kernel_size=2, stride=2)\n",
    "        self.conv4 = nn.Conv2d(32, 32, kernel_size=3, padding=1)\n",
    "        self.final_conv = nn.Conv2d(32, 1, kernel_size=1)\n",
    "        \n",
    "    def forward(self, x):\n",
    "        x = F.relu(self.conv1(self.upconv1(x)))\n",
    "        x = F.relu(self.conv2(self.upconv2(x)))\n",
    "        x = F.relu(self.conv3(self.upconv3(x)))\n",
    "        x = F.relu(self.conv4(self.upconv4(x)))\n",
    "        x = self.final_conv(x)\n",
    "        return x\n",
    "\n",
    "# Complete Model\n",
    "class SignatureVerificationModel(nn.Module):\n",
    "    def __init__(self):\n",
    "        super(SignatureVerificationModel, self).__init__()\n",
    "        self.resnet = ResNet18Block()\n",
    "        self.attention = AttentionModule(input_dim=512, hidden_dim=256)\n",
    "        self.decoder = UNetDecoder(input_dim=512)\n",
    "    \n",
    "    def forward(self, input_image, comparison_image):\n",
    "        # Feature extraction\n",
    "        feature_map = self.resnet(input_image)  # (N, 512, 16, 16)\n",
    "        pooled_feature = self.resnet(comparison_image).mean(dim=[2, 3])  # (N, 512)\n",
    "        \n",
    "        # Attention\n",
    "        attended_feature = self.attention(feature_map, pooled_feature)\n",
    "        \n",
    "        # Decode\n",
    "        output = self.decoder(feature_map)\n",
    "        \n",
    "        return output, attended_feature\n",
    "\n",
    "# Instantiate model\n",
    "model = SignatureVerificationModel()\n",
    "input_image = torch.randn(1, 3, 256, 256)  # Input size 256x256\n",
    "comparison_image = torch.randn(1, 3, 256, 256)\n",
    "output, attended_feature = model(input_image, comparison_image)\n",
    "\n",
    "print(output.shape)  # Expected output shape: (1, 1, 256, 256)\n",
    "print(attended_feature.shape)  # Expected attended feature shape: (1, 256)"
   ]
  },
  {
   "cell_type": "code",
   "execution_count": 2,
   "id": "a16fe4f8-5c75-473a-86bb-0ca291201628",
   "metadata": {},
   "outputs": [
    {
     "name": "stdout",
     "output_type": "stream",
     "text": [
      "Numero totale di parametri nel modello: 12920098\n"
     ]
    }
   ],
   "source": [
    "total_params = sum(p.numel() for p in model.parameters())\n",
    "\n",
    "print(f\"Numero totale di parametri nel modello: {total_params}\")"
   ]
  },
  {
   "cell_type": "code",
   "execution_count": null,
   "id": "3bc74e46-8775-4940-94f9-6f54e389c7ff",
   "metadata": {},
   "outputs": [],
   "source": []
  }
 ],
 "metadata": {
  "kernelspec": {
   "display_name": "Python 3 (ipykernel)",
   "language": "python",
   "name": "python3"
  },
  "language_info": {
   "codemirror_mode": {
    "name": "ipython",
    "version": 3
   },
   "file_extension": ".py",
   "mimetype": "text/x-python",
   "name": "python",
   "nbconvert_exporter": "python",
   "pygments_lexer": "ipython3",
   "version": "3.13.2"
  }
 },
 "nbformat": 4,
 "nbformat_minor": 5
}
