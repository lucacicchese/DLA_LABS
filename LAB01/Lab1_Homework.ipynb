{
 "cells": [
  {
   "cell_type": "markdown",
   "id": "0dd24001-2fcf-41e4-8ed4-0973db9931f2",
   "metadata": {},
   "source": [
    "## Exercise 1.1: A baseline MLP"
   ]
  },
  {
   "cell_type": "code",
   "execution_count": 4,
   "id": "1f59b091-1465-42dc-8815-dbb90d14f912",
   "metadata": {},
   "outputs": [],
   "source": [
    "# Libraries\n",
    "import numpy as np\n",
    "import matplotlib.pyplot as plt\n",
    "from functools import reduce\n",
    "import torch\n",
    "from torchvision.datasets import MNIST\n",
    "from torchvision.datasets import CIFAR10\n",
    "from torch.utils.data import Subset\n",
    "import torch.nn as nn\n",
    "import torch.nn.functional as F # Contiene una versione funzionale di molti layer. \n",
    "import torchvision.transforms as transforms\n",
    "from tqdm import tqdm \n",
    "from sklearn.metrics import accuracy_score, classification_report\n",
    "from torch.utils.tensorboard import SummaryWriter\n",
    "import torchvision"
   ]
  },
  {
   "cell_type": "code",
   "execution_count": 5,
   "id": "396a7424-ce0d-408b-af25-f2cc40142f31",
   "metadata": {},
   "outputs": [],
   "source": [
    "# Hyperparameters\n",
    "eval_percentage = 0.3\n",
    "lr = 0.0001\n",
    "opt = 'Adam'\n",
    "loss = 'CrossEntropy'\n",
    "epochs = 5\n",
    "#layers = [28*28, 64, 64, 64, 10]\n",
    "#layers = [28*28, 64, 128, 64, 64, 10] #MNIST sizes\n",
    "layers = [32*32*3, 64, 128, 64, 64, 10] #CIFAR10 sizes\n",
    "batch_size = 64\n",
    "\n"
   ]
  },
  {
   "cell_type": "code",
   "execution_count": 6,
   "id": "5f308b7b-c57e-4f00-b045-3782b06bfa07",
   "metadata": {},
   "outputs": [
    {
     "name": "stderr",
     "output_type": "stream",
     "text": [
      "\u001b[34m\u001b[1mwandb\u001b[0m: Network error (SSLError), entering retry loop.\n",
      "\u001b[34m\u001b[1mwandb\u001b[0m: Network error (SSLError), entering retry loop.\n"
     ]
    },
    {
     "data": {
      "text/html": [
       "creating run (14s)<br>  <strong style=\"color:red\">ERROR</strong> retrying: Post \"https://api.wandb.ai/graphql\": remote error: tls: handshake failure"
      ],
      "text/plain": [
       "<IPython.core.display.HTML object>"
      ]
     },
     "metadata": {},
     "output_type": "display_data"
    },
    {
     "ename": "KeyboardInterrupt",
     "evalue": "",
     "output_type": "error",
     "traceback": [
      "\u001b[31m---------------------------------------------------------------------------\u001b[39m",
      "\u001b[31mKeyboardInterrupt\u001b[39m                         Traceback (most recent call last)",
      "\u001b[36mCell\u001b[39m\u001b[36m \u001b[39m\u001b[32mIn[6]\u001b[39m\u001b[32m, line 6\u001b[39m\n\u001b[32m      3\u001b[39m \u001b[38;5;28;01mimport\u001b[39;00m\u001b[38;5;250m \u001b[39m\u001b[34;01mwandb\u001b[39;00m\n\u001b[32m      5\u001b[39m \u001b[38;5;66;03m# Start a new wandb run to track this script.\u001b[39;00m\n\u001b[32m----> \u001b[39m\u001b[32m6\u001b[39m run = \u001b[43mwandb\u001b[49m\u001b[43m.\u001b[49m\u001b[43minit\u001b[49m\u001b[43m(\u001b[49m\n\u001b[32m      7\u001b[39m \u001b[43m    \u001b[49m\u001b[38;5;66;43;03m# Set the wandb entity where your project will be logged (generally your team name).\u001b[39;49;00m\n\u001b[32m      8\u001b[39m \u001b[43m    \u001b[49m\u001b[43mentity\u001b[49m\u001b[43m=\u001b[49m\u001b[33;43m\"\u001b[39;49m\u001b[33;43mluca-cicchese-universit-di-firenze\u001b[39;49m\u001b[33;43m\"\u001b[39;49m\u001b[43m,\u001b[49m\n\u001b[32m      9\u001b[39m \u001b[43m    \u001b[49m\u001b[38;5;66;43;03m# Set the wandb project where this run will be logged.\u001b[39;49;00m\n\u001b[32m     10\u001b[39m \u001b[43m    \u001b[49m\u001b[43mproject\u001b[49m\u001b[43m=\u001b[49m\u001b[33;43m\"\u001b[39;49m\u001b[33;43mCNN_on_AWS\u001b[39;49m\u001b[33;43m\"\u001b[39;49m\u001b[43m,\u001b[49m\n\u001b[32m     11\u001b[39m \u001b[43m    \u001b[49m\u001b[38;5;66;43;03m# Track hyperparameters and run metadata.\u001b[39;49;00m\n\u001b[32m     12\u001b[39m \u001b[43m    \u001b[49m\u001b[43mconfig\u001b[49m\u001b[43m=\u001b[49m\u001b[43m{\u001b[49m\n\u001b[32m     13\u001b[39m \u001b[43m        \u001b[49m\u001b[33;43m\"\u001b[39;49m\u001b[33;43mlearning_rate\u001b[39;49m\u001b[33;43m\"\u001b[39;49m\u001b[43m:\u001b[49m\u001b[43m \u001b[49m\u001b[43mlr\u001b[49m\u001b[43m,\u001b[49m\n\u001b[32m     14\u001b[39m \u001b[43m        \u001b[49m\u001b[33;43m\"\u001b[39;49m\u001b[33;43marchitecture\u001b[39;49m\u001b[33;43m\"\u001b[39;49m\u001b[43m:\u001b[49m\u001b[43m \u001b[49m\u001b[33;43m\"\u001b[39;49m\u001b[33;43msimpleCNN\u001b[39;49m\u001b[33;43m\"\u001b[39;49m\u001b[43m,\u001b[49m\n\u001b[32m     15\u001b[39m \u001b[43m        \u001b[49m\u001b[33;43m\"\u001b[39;49m\u001b[33;43mdataset\u001b[39;49m\u001b[33;43m\"\u001b[39;49m\u001b[43m:\u001b[49m\u001b[43m \u001b[49m\u001b[33;43m\"\u001b[39;49m\u001b[33;43mMNIST\u001b[39;49m\u001b[33;43m\"\u001b[39;49m\u001b[43m,\u001b[49m\n\u001b[32m     16\u001b[39m \u001b[43m        \u001b[49m\u001b[33;43m\"\u001b[39;49m\u001b[33;43mepochs\u001b[39;49m\u001b[33;43m\"\u001b[39;49m\u001b[43m:\u001b[49m\u001b[43m \u001b[49m\u001b[43mepochs\u001b[49m\u001b[43m,\u001b[49m\n\u001b[32m     17\u001b[39m \u001b[43m    \u001b[49m\u001b[43m}\u001b[49m\u001b[43m,\u001b[49m\n\u001b[32m     18\u001b[39m \u001b[43m)\u001b[49m\n",
      "\u001b[36mFile \u001b[39m\u001b[32m~/anaconda3/envs/DLA/lib/python3.13/site-packages/wandb/sdk/wandb_init.py:1468\u001b[39m, in \u001b[36minit\u001b[39m\u001b[34m(entity, project, dir, id, name, notes, tags, config, config_exclude_keys, config_include_keys, allow_val_change, group, job_type, mode, force, anonymous, reinit, resume, resume_from, fork_from, save_code, tensorboard, sync_tensorboard, monitor_gym, settings)\u001b[39m\n\u001b[32m   1465\u001b[39m     \u001b[38;5;28;01mif\u001b[39;00m run_settings.x_server_side_derived_summary:\n\u001b[32m   1466\u001b[39m         init_telemetry.feature.server_side_derived_summary = \u001b[38;5;28;01mTrue\u001b[39;00m\n\u001b[32m-> \u001b[39m\u001b[32m1468\u001b[39m     \u001b[38;5;28;01mreturn\u001b[39;00m \u001b[43mwi\u001b[49m\u001b[43m.\u001b[49m\u001b[43minit\u001b[49m\u001b[43m(\u001b[49m\u001b[43mrun_settings\u001b[49m\u001b[43m,\u001b[49m\u001b[43m \u001b[49m\u001b[43mrun_config\u001b[49m\u001b[43m)\u001b[49m\n\u001b[32m   1470\u001b[39m \u001b[38;5;28;01mexcept\u001b[39;00m \u001b[38;5;167;01mKeyboardInterrupt\u001b[39;00m \u001b[38;5;28;01mas\u001b[39;00m e:\n\u001b[32m   1471\u001b[39m     \u001b[38;5;28;01mif\u001b[39;00m wl:\n",
      "\u001b[36mFile \u001b[39m\u001b[32m~/anaconda3/envs/DLA/lib/python3.13/site-packages/wandb/sdk/wandb_init.py:941\u001b[39m, in \u001b[36m_WandbInit.init\u001b[39m\u001b[34m(self, settings, config)\u001b[39m\n\u001b[32m    939\u001b[39m \u001b[38;5;28;01mtry\u001b[39;00m:\n\u001b[32m    940\u001b[39m     \u001b[38;5;28;01mtry\u001b[39;00m:\n\u001b[32m--> \u001b[39m\u001b[32m941\u001b[39m         result = \u001b[43mwait_with_progress\u001b[49m\u001b[43m(\u001b[49m\n\u001b[32m    942\u001b[39m \u001b[43m            \u001b[49m\u001b[43mrun_init_handle\u001b[49m\u001b[43m,\u001b[49m\n\u001b[32m    943\u001b[39m \u001b[43m            \u001b[49m\u001b[43mtimeout\u001b[49m\u001b[43m=\u001b[49m\u001b[43mtimeout\u001b[49m\u001b[43m,\u001b[49m\n\u001b[32m    944\u001b[39m \u001b[43m            \u001b[49m\u001b[43mprogress_after\u001b[49m\u001b[43m=\u001b[49m\u001b[32;43m1\u001b[39;49m\u001b[43m,\u001b[49m\n\u001b[32m    945\u001b[39m \u001b[43m            \u001b[49m\u001b[43mdisplay_progress\u001b[49m\u001b[43m=\u001b[49m\u001b[43mdisplay_init_message\u001b[49m\u001b[43m,\u001b[49m\n\u001b[32m    946\u001b[39m \u001b[43m        \u001b[49m\u001b[43m)\u001b[49m\n\u001b[32m    948\u001b[39m     \u001b[38;5;28;01mexcept\u001b[39;00m \u001b[38;5;167;01mTimeoutError\u001b[39;00m:\n\u001b[32m    949\u001b[39m         run_init_handle.cancel(backend.interface)\n",
      "\u001b[36mFile \u001b[39m\u001b[32m~/anaconda3/envs/DLA/lib/python3.13/site-packages/wandb/sdk/mailbox/wait_with_progress.py:24\u001b[39m, in \u001b[36mwait_with_progress\u001b[39m\u001b[34m(handle, timeout, progress_after, display_progress)\u001b[39m\n\u001b[32m     13\u001b[39m \u001b[38;5;28;01mdef\u001b[39;00m\u001b[38;5;250m \u001b[39m\u001b[34mwait_with_progress\u001b[39m(\n\u001b[32m     14\u001b[39m     handle: MailboxHandle[_T],\n\u001b[32m     15\u001b[39m     *,\n\u001b[32m   (...)\u001b[39m\u001b[32m     18\u001b[39m     display_progress: Callable[[], Coroutine[Any, Any, \u001b[38;5;28;01mNone\u001b[39;00m]],\n\u001b[32m     19\u001b[39m ) -> _T:\n\u001b[32m     20\u001b[39m \u001b[38;5;250m    \u001b[39m\u001b[33;03m\"\"\"Wait for a handle, possibly displaying progress to the user.\u001b[39;00m\n\u001b[32m     21\u001b[39m \n\u001b[32m     22\u001b[39m \u001b[33;03m    Equivalent to passing a single handle to `wait_all_with_progress`.\u001b[39;00m\n\u001b[32m     23\u001b[39m \u001b[33;03m    \"\"\"\u001b[39;00m\n\u001b[32m---> \u001b[39m\u001b[32m24\u001b[39m     \u001b[38;5;28;01mreturn\u001b[39;00m \u001b[43mwait_all_with_progress\u001b[49m\u001b[43m(\u001b[49m\n\u001b[32m     25\u001b[39m \u001b[43m        \u001b[49m\u001b[43m[\u001b[49m\u001b[43mhandle\u001b[49m\u001b[43m]\u001b[49m\u001b[43m,\u001b[49m\n\u001b[32m     26\u001b[39m \u001b[43m        \u001b[49m\u001b[43mtimeout\u001b[49m\u001b[43m=\u001b[49m\u001b[43mtimeout\u001b[49m\u001b[43m,\u001b[49m\n\u001b[32m     27\u001b[39m \u001b[43m        \u001b[49m\u001b[43mprogress_after\u001b[49m\u001b[43m=\u001b[49m\u001b[43mprogress_after\u001b[49m\u001b[43m,\u001b[49m\n\u001b[32m     28\u001b[39m \u001b[43m        \u001b[49m\u001b[43mdisplay_progress\u001b[49m\u001b[43m=\u001b[49m\u001b[43mdisplay_progress\u001b[49m\u001b[43m,\u001b[49m\n\u001b[32m     29\u001b[39m \u001b[43m    \u001b[49m\u001b[43m)\u001b[49m[\u001b[32m0\u001b[39m]\n",
      "\u001b[36mFile \u001b[39m\u001b[32m~/anaconda3/envs/DLA/lib/python3.13/site-packages/wandb/sdk/mailbox/wait_with_progress.py:87\u001b[39m, in \u001b[36mwait_all_with_progress\u001b[39m\u001b[34m(handle_list, timeout, progress_after, display_progress)\u001b[39m\n\u001b[32m     80\u001b[39m             remaining_timeout = \u001b[38;5;28;01mNone\u001b[39;00m\n\u001b[32m     82\u001b[39m         \u001b[38;5;28;01mreturn\u001b[39;00m \u001b[38;5;28;01mawait\u001b[39;00m _wait_handles_async(\n\u001b[32m     83\u001b[39m             handle_list,\n\u001b[32m     84\u001b[39m             timeout=remaining_timeout,\n\u001b[32m     85\u001b[39m         )\n\u001b[32m---> \u001b[39m\u001b[32m87\u001b[39m \u001b[38;5;28;01mreturn\u001b[39;00m \u001b[43masyncio_compat\u001b[49m\u001b[43m.\u001b[49m\u001b[43mrun\u001b[49m\u001b[43m(\u001b[49m\u001b[43mprogress_loop_with_timeout\u001b[49m\u001b[43m)\u001b[49m\n",
      "\u001b[36mFile \u001b[39m\u001b[32m~/anaconda3/envs/DLA/lib/python3.13/site-packages/wandb/sdk/lib/asyncio_compat.py:30\u001b[39m, in \u001b[36mrun\u001b[39m\u001b[34m(fn)\u001b[39m\n\u001b[32m     27\u001b[39m future = executor.submit(runner.run, fn)\n\u001b[32m     29\u001b[39m \u001b[38;5;28;01mtry\u001b[39;00m:\n\u001b[32m---> \u001b[39m\u001b[32m30\u001b[39m     \u001b[38;5;28;01mreturn\u001b[39;00m \u001b[43mfuture\u001b[49m\u001b[43m.\u001b[49m\u001b[43mresult\u001b[49m\u001b[43m(\u001b[49m\u001b[43m)\u001b[49m\n\u001b[32m     32\u001b[39m \u001b[38;5;28;01mfinally\u001b[39;00m:\n\u001b[32m     33\u001b[39m     runner.cancel()\n",
      "\u001b[36mFile \u001b[39m\u001b[32m~/anaconda3/envs/DLA/lib/python3.13/concurrent/futures/_base.py:451\u001b[39m, in \u001b[36mFuture.result\u001b[39m\u001b[34m(self, timeout)\u001b[39m\n\u001b[32m    448\u001b[39m \u001b[38;5;28;01melif\u001b[39;00m \u001b[38;5;28mself\u001b[39m._state == FINISHED:\n\u001b[32m    449\u001b[39m     \u001b[38;5;28;01mreturn\u001b[39;00m \u001b[38;5;28mself\u001b[39m.__get_result()\n\u001b[32m--> \u001b[39m\u001b[32m451\u001b[39m \u001b[38;5;28;43mself\u001b[39;49m\u001b[43m.\u001b[49m\u001b[43m_condition\u001b[49m\u001b[43m.\u001b[49m\u001b[43mwait\u001b[49m\u001b[43m(\u001b[49m\u001b[43mtimeout\u001b[49m\u001b[43m)\u001b[49m\n\u001b[32m    453\u001b[39m \u001b[38;5;28;01mif\u001b[39;00m \u001b[38;5;28mself\u001b[39m._state \u001b[38;5;129;01min\u001b[39;00m [CANCELLED, CANCELLED_AND_NOTIFIED]:\n\u001b[32m    454\u001b[39m     \u001b[38;5;28;01mraise\u001b[39;00m CancelledError()\n",
      "\u001b[36mFile \u001b[39m\u001b[32m~/anaconda3/envs/DLA/lib/python3.13/threading.py:359\u001b[39m, in \u001b[36mCondition.wait\u001b[39m\u001b[34m(self, timeout)\u001b[39m\n\u001b[32m    357\u001b[39m \u001b[38;5;28;01mtry\u001b[39;00m:    \u001b[38;5;66;03m# restore state no matter what (e.g., KeyboardInterrupt)\u001b[39;00m\n\u001b[32m    358\u001b[39m     \u001b[38;5;28;01mif\u001b[39;00m timeout \u001b[38;5;129;01mis\u001b[39;00m \u001b[38;5;28;01mNone\u001b[39;00m:\n\u001b[32m--> \u001b[39m\u001b[32m359\u001b[39m         \u001b[43mwaiter\u001b[49m\u001b[43m.\u001b[49m\u001b[43macquire\u001b[49m\u001b[43m(\u001b[49m\u001b[43m)\u001b[49m\n\u001b[32m    360\u001b[39m         gotit = \u001b[38;5;28;01mTrue\u001b[39;00m\n\u001b[32m    361\u001b[39m     \u001b[38;5;28;01melse\u001b[39;00m:\n",
      "\u001b[31mKeyboardInterrupt\u001b[39m: "
     ]
    }
   ],
   "source": [
    "import random\n",
    "\n",
    "import wandb\n",
    "\n",
    "# Start a new wandb run to track this script.\n",
    "run = wandb.init(\n",
    "    # Set the wandb entity where your project will be logged (generally your team name).\n",
    "    entity=\"luca-cicchese-universit-di-firenze\",\n",
    "    # Set the wandb project where this run will be logged.\n",
    "    project=\"CNN_on_AWS\",\n",
    "    # Track hyperparameters and run metadata.\n",
    "    config={\n",
    "        \"learning_rate\": lr,\n",
    "        \"architecture\": \"simpleCNN\",\n",
    "        \"dataset\": \"MNIST\",\n",
    "        \"epochs\": epochs,\n",
    "    },\n",
    ")"
   ]
  },
  {
   "cell_type": "code",
   "execution_count": 7,
   "id": "63025b9d-feb5-4264-99e5-af8d5404808a",
   "metadata": {},
   "outputs": [],
   "source": [
    "# Data import\n",
    "def import_MNIST():\n",
    "    transform = transforms.Compose([\n",
    "        transforms.ToTensor(),\n",
    "        transforms.Normalize((0.1307,), (0.3081,)) # Numeri per fare la standardizzazione di MNIST si ottengono come sotto\n",
    "    ])\n",
    "    \n",
    "    \n",
    "    \n",
    "    train_data = MNIST(root='./data', train=True, download=True, transform=transform)\n",
    "    eval_size = round(eval_percentage*(len(train_data)))\n",
    "    eval_data = Subset(train_data, range(eval_size))\n",
    "    train_data = Subset(train_data, range(eval_size, len(train_data)))\n",
    "    test_data = MNIST(root='./data', train=False, download=True, transform=transform)\n",
    "    \n",
    "    train = torch.utils.data.DataLoader(train_data, batch_size, shuffle=True, num_workers=4)\n",
    "    evaluation   = torch.utils.data.DataLoader(eval_data, batch_size, num_workers=4)\n",
    "    test  = torch.utils.data.DataLoader(test_data, batch_size, shuffle=True, num_workers=4)\n",
    "\n",
    "    \n",
    "    return train, evaluation, test"
   ]
  },
  {
   "cell_type": "code",
   "execution_count": 8,
   "id": "0cc30d39-50e6-408d-925b-e59a9ee182c3",
   "metadata": {},
   "outputs": [],
   "source": [
    "# Data import\n",
    "\n",
    "def import_CIFAR():\n",
    "\n",
    "    train_data = CIFAR10(root='./data', train=True, download=True, transform=None)\n",
    "    mean = (train_data.data /255.0).mean()\n",
    "    std =(train_data.data /255.0).std()\n",
    "\n",
    "    \n",
    "    transform = transforms.Compose([\n",
    "        transforms.ToTensor(),\n",
    "        transforms.Normalize((mean,), (std,)) \n",
    "    ])\n",
    "\n",
    "    train_data = CIFAR10(root='./data', train=True, download=True, transform=transform)\n",
    "    eval_size = round(eval_percentage*(len(train_data)))\n",
    "    eval_data = Subset(train_data, range(eval_size))\n",
    "    train_data = Subset(train_data, range(eval_size, len(train_data)))\n",
    "    test_data = CIFAR10(root='./data', train=False, download=True, transform=transform)\n",
    "    \n",
    "    train = torch.utils.data.DataLoader(train_data, batch_size, shuffle=True, num_workers=4)\n",
    "    evaluation   = torch.utils.data.DataLoader(eval_data, batch_size, num_workers=4)\n",
    "    test  = torch.utils.data.DataLoader(test_data, batch_size, shuffle=True, num_workers=4)\n",
    "\n",
    "    \n",
    "    return train, evaluation, test"
   ]
  },
  {
   "cell_type": "code",
   "execution_count": null,
   "id": "7b8c7e5a-9fd4-4c58-af95-7bc30f5f896b",
   "metadata": {},
   "outputs": [],
   "source": [
    "class simpleMLP(nn.Module):\n",
    "    def __init__(self, layer_sizes):\n",
    "        super().__init__()\n",
    "        self.layers = nn.Sequential()\n",
    "        self.layers.add_module(f'layer-flatten', nn.Flatten())\n",
    "        for i in range(len(layer_sizes)-1):\n",
    "            self.layers.add_module(f'layer-{i}', nn.Linear(layer_sizes[i], layer_sizes[i+1]))\n",
    "            if i < len(layer_sizes)-2:\n",
    "                self.layers.add_module(f'Nonlinearity-layer-{i}', nn.ReLU())\n",
    "\n",
    "    def forward(self, x):\n",
    "        return self.layers(x)"
   ]
  },
  {
   "cell_type": "code",
   "execution_count": null,
   "id": "af75fe7d-4736-443f-bf08-d0cc8db034bc",
   "metadata": {},
   "outputs": [],
   "source": [
    "model1 = simpleMLP(layers)\n",
    "print(model1)\n",
    "\n",
    "total_params = sum(p.numel() for p in model1.parameters())\n",
    "\n",
    "print(f'Total number of parameters for MLP model: {total_params}')"
   ]
  },
  {
   "cell_type": "code",
   "execution_count": 9,
   "id": "0dba28a5-d3bf-413f-8677-96bfc0688a6f",
   "metadata": {},
   "outputs": [],
   "source": [
    "def evaluate(model, dataset, device='cpu', test=False):\n",
    "    model.eval()\n",
    "    predictions = []\n",
    "    ground_truth = [] \n",
    "    for (value, label) in tqdm(dataset, desc='Evaluating', leave=True):\n",
    "        value = value.to(device)\n",
    "        prediction = torch.argmax(model(value), dim=1)\n",
    "\n",
    "        ground_truth = np.append(ground_truth, label.cpu().numpy())  \n",
    "        predictions = np.append(predictions, prediction.detach().cpu().numpy()) \n",
    "\n",
    "\n",
    "    accuracy = accuracy_score(ground_truth, predictions)\n",
    "    report = classification_report(ground_truth, predictions, zero_division=0, digits=3)\n",
    "        \n",
    "    \n",
    "    return (accuracy, report)\n",
    "\n",
    "# Simple function to plot the loss curve and validation accuracy.\n",
    "def plot_validation_curves(losses_and_accs):\n",
    "    losses = [x for (x, _) in losses_and_accs]\n",
    "    accs = [x for (_, x) in losses_and_accs]\n",
    "    plt.figure(figsize=(16, 8))\n",
    "    plt.subplot(1, 2, 1)\n",
    "    plt.plot(losses)\n",
    "    plt.xlabel('Epoch')\n",
    "    plt.ylabel('Loss')\n",
    "    plt.title('Average Training Loss per Epoch')\n",
    "    plt.subplot(1, 2, 2)\n",
    "    plt.plot(accs)\n",
    "    plt.xlabel('Epoch')\n",
    "    plt.ylabel('Validation Accuracy')\n",
    "    plt.title(f'Best Accuracy = {np.max(accs)} @ epoch {np.argmax(accs)}')"
   ]
  },
  {
   "cell_type": "code",
   "execution_count": 10,
   "id": "ebb35e58-15a5-4572-b861-5cd51b3f188d",
   "metadata": {},
   "outputs": [],
   "source": [
    "def train_batch(epoch, model, optimizer, loss_fn, train_data, device, writer):\n",
    "    losses = []\n",
    "    for (value, label) in tqdm(train_data, desc=f'Training epoch {epoch}', leave=True):\n",
    "        value = value.to(device)\n",
    "        label = label.to(device)\n",
    "        optimizer.zero_grad()\n",
    "        prediction = model(value)\n",
    "        \n",
    "        # Choose loss function\n",
    "        if loss == 'CrossEntropy':\n",
    "            loss_fn = nn.CrossEntropyLoss()\n",
    "            \n",
    "        loss_value = loss_fn(prediction, label)\n",
    "        loss_value.backward()\n",
    "        optimizer.step()\n",
    "        losses.append(loss_value.item())\n",
    "\n",
    "        writer.add_scalar('Loss/train', np.mean(losses), epoch)\n",
    "        \n",
    "    return np.mean(losses)\n",
    "\n",
    "def train_model(model, optimizer, loss, epochs, train_data, eval_data, device, writer, model_type = 'unknown_model'):\n",
    "    model.train()\n",
    "    losses_and_accs = []\n",
    "    for epoch in range(epochs):\n",
    "        loss_value = train_batch(epoch, model, optimizer, loss, train_data, device, writer)\n",
    "        (accuracy, _) = evaluate(model, eval_data, device)\n",
    "        losses_and_accs.append((loss_value, accuracy))\n",
    "        #losses_and_accs.append(loss_value)\n",
    "        writer.add_scalar('Accuracy/train', accuracy, epoch)\n",
    "        #run.log({\"acc\": accuracy, \"loss\": loss_value})\n",
    "\n",
    "        if epoch%5 == 0:\n",
    "            checkpoint = {'epoch': epoch,\n",
    "                          'model_state_dict': model.state_dict(),\n",
    "                          'optimizer_state_dict': optimizer.state_dict(),\n",
    "                          'loss_and_accs': losses_and_accs}\n",
    "            \n",
    "            torch.save(checkpoint, f\"trained_models/model={model_type}-Epoch={epoch}-lr={lr}-opt={opt}-loss={loss}-epochs={epochs}-batch_size={batch_size}.pth\")\n",
    "    \n",
    "    return losses_and_accs\n",
    "\n",
    "            "
   ]
  },
  {
   "cell_type": "code",
   "execution_count": 42,
   "id": "334fa19a-b9f0-4bc0-9cbc-5452768bcbaf",
   "metadata": {},
   "outputs": [
    {
     "name": "stdout",
     "output_type": "stream",
     "text": [
      "Training on cpu\n",
      "Loading dataset...\n",
      "Training a simple MPL with Adam and CrossEntropy\n"
     ]
    },
    {
     "name": "stderr",
     "output_type": "stream",
     "text": [
      "Training epoch 0: 100%|███████████████████████| 547/547 [00:07<00:00, 76.83it/s]\n",
      "Evaluating: 100%|████████████████████████████| 235/235 [00:02<00:00, 110.10it/s]\n",
      "Training epoch 1: 100%|███████████████████████| 547/547 [00:07<00:00, 72.49it/s]\n",
      "Evaluating: 100%|█████████████████████████████| 235/235 [00:02<00:00, 92.08it/s]\n",
      "Training epoch 2: 100%|███████████████████████| 547/547 [00:09<00:00, 59.87it/s]\n",
      "Evaluating: 100%|█████████████████████████████| 235/235 [00:02<00:00, 78.40it/s]\n",
      "Training epoch 3: 100%|███████████████████████| 547/547 [00:08<00:00, 66.83it/s]\n",
      "Evaluating: 100%|█████████████████████████████| 235/235 [00:03<00:00, 73.65it/s]\n",
      "Training epoch 4: 100%|███████████████████████| 547/547 [00:09<00:00, 59.57it/s]\n",
      "Evaluating: 100%|█████████████████████████████| 235/235 [00:03<00:00, 71.98it/s]\n"
     ]
    },
    {
     "name": "stdout",
     "output_type": "stream",
     "text": [
      "Minimum loss = 0.37546666666666667\n"
     ]
    },
    {
     "name": "stderr",
     "output_type": "stream",
     "text": [
      "Evaluating: 100%|█████████████████████████████| 157/157 [00:02<00:00, 69.17it/s]\n"
     ]
    },
    {
     "name": "stdout",
     "output_type": "stream",
     "text": [
      "Accuracy on test set: 0.4708\n"
     ]
    }
   ],
   "source": [
    "# Main function\n",
    "device = 'cuda' if torch.cuda.is_available() else 'cpu'\n",
    "print(f\"Training on {device}\")\n",
    "\n",
    "print(\"Loading dataset...\")\n",
    "(train_data, eval_data, test_data) = import_CIFAR()\n",
    "\n",
    "\n",
    "# Instance of the model\n",
    "print(f\"Training a simple MPL with {opt} and {loss}\")\n",
    "model = simpleMLP(layers)\n",
    "model.to(device)\n",
    "#print(model)\n",
    "\n",
    "# Choose optimizer\n",
    "if opt == 'Adam':\n",
    "    optimizer = torch.optim.Adam(model.parameters(), lr=lr)\n",
    "\n",
    "writer = SummaryWriter(log_dir=f\"runs/MNIST-model='MLP'-lr={lr}-opt={opt}-loss={loss}-epochs={epochs}-batch_size={batch_size}-layers={layers}\")\n",
    "\n",
    "losses_and_accs = train_model(model, optimizer, loss, epochs, train_data, eval_data, device, writer)\n",
    "\n",
    "print(f\"Minimum loss = {np.min(losses_and_accs)}\")\n",
    "(accuracy, _) = evaluate(model, test_data, device=device)\n",
    "\n",
    "print(f\"Accuracy on test set: {accuracy}\")"
   ]
  },
  {
   "cell_type": "markdown",
   "id": "05c170ca-ab03-4c70-ae92-32420bf2b26c",
   "metadata": {},
   "source": [
    "## Exercise 1.2: Adding Residual Connections\n",
    "\n",
    "Implement a variant of your parameterized MLP network to support **residual** connections. Your network should be defined as a composition of **residual MLP** blocks that have one or more linear layers and add a skip connection from the block input to the output of the final linear layer.\n",
    "\n",
    "**Compare** the performance (in training/validation loss and test accuracy) of your MLP and ResidualMLP for a range of depths. Verify that deeper networks **with** residual connections are easier to train than a network of the same depth **without** residual connections.\n",
    "\n",
    "**For extra style points**: See if you can explain by analyzing the gradient magnitudes on a single training batch *why* this is the case. "
   ]
  },
  {
   "cell_type": "code",
   "execution_count": 13,
   "id": "1ab2c865-a93f-47f1-a959-5125ffe2ae2c",
   "metadata": {},
   "outputs": [
    {
     "name": "stdout",
     "output_type": "stream",
     "text": [
      "skipMLP(\n",
      "  (layers): Sequential(\n",
      "    (layer-flatten): Flatten(start_dim=1, end_dim=-1)\n",
      "    (layer-0): Linear(in_features=3072, out_features=64, bias=True)\n",
      "    (Nonlinearity-layer-0): ReLU()\n",
      "    (layer-1): skipMLPBlock(\n",
      "      (layer1): Linear(in_features=64, out_features=128, bias=True)\n",
      "      (relu1): ReLU()\n",
      "      (layer2): Linear(in_features=128, out_features=64, bias=True)\n",
      "    )\n",
      "    (Nonlinearity-layer-1): ReLU()\n",
      "    (layer-bridge1-2): Linear(in_features=64, out_features=128, bias=True)\n",
      "    (Nonlinearity-bridge1-2): ReLU()\n",
      "    (layer-2): skipMLPBlock(\n",
      "      (layer1): Linear(in_features=128, out_features=64, bias=True)\n",
      "      (relu1): ReLU()\n",
      "      (layer2): Linear(in_features=64, out_features=128, bias=True)\n",
      "    )\n",
      "    (Nonlinearity-layer-2): ReLU()\n",
      "    (layer-bridge2-3): Linear(in_features=128, out_features=64, bias=True)\n",
      "    (Nonlinearity-bridge2-3): ReLU()\n",
      "    (layer-3): skipMLPBlock(\n",
      "      (layer1): Linear(in_features=64, out_features=64, bias=True)\n",
      "      (relu1): ReLU()\n",
      "      (layer2): Linear(in_features=64, out_features=64, bias=True)\n",
      "    )\n",
      "    (Nonlinearity-layer-3): ReLU()\n",
      "    (layer-4): Linear(in_features=64, out_features=10, bias=True)\n",
      "  )\n",
      ")\n",
      "Total number of parameters for MLP model: 255370\n"
     ]
    }
   ],
   "source": [
    "class skipMLPBlock(nn.Module):\n",
    "    def __init__(self, in_size, out_size):\n",
    "        super().__init__()\n",
    "        self.layer1 = nn.Linear(in_size, out_size)\n",
    "        self.relu1 = nn.ReLU()\n",
    "        self.layer2 = nn.Linear(out_size, in_size)\n",
    "\n",
    "    def forward(self, x):\n",
    "        out1 = self.layer1(x)\n",
    "        out1_relu = self.relu1(out1)\n",
    "        out2 = self.layer2(out1_relu)\n",
    "\n",
    "        out = x + out2\n",
    "            \n",
    "        return out\n",
    "\n",
    "class skipMLP(nn.Module):\n",
    "    def __init__(self, layer_sizes):\n",
    "        super().__init__()\n",
    "        self.layers = nn.Sequential()\n",
    "        self.layers.add_module(f'layer-flatten', nn.Flatten())\n",
    "        \n",
    "        for i in range(len(layer_sizes)-1):\n",
    "            if i == 0:\n",
    "                self.layers.add_module(f'layer-{i}', nn.Linear(layer_sizes[i], layer_sizes[i+1]))\n",
    "            elif i == len(layer_sizes)-2:\n",
    "                self.layers.add_module(f'layer-{i}', nn.Linear(layer_sizes[i], layer_sizes[i+1]))\n",
    "            else:\n",
    "                self.layers.add_module(f'layer-{i}', skipMLPBlock(layer_sizes[i], layer_sizes[i+1]))\n",
    "                if layer_sizes[i] != layer_sizes[i+1]:\n",
    "                    self.layers.add_module(f'Nonlinearity-layer-{i}', nn.ReLU())\n",
    "                    self.layers.add_module(f'layer-bridge{i}-{i+1}', nn.Linear(layer_sizes[i], layer_sizes[i+1]))\n",
    "                    self.layers.add_module(f'Nonlinearity-bridge{i}-{i+1}', nn.ReLU())\n",
    "            if i < len(layer_sizes)-2:\n",
    "                    self.layers.add_module(f'Nonlinearity-layer-{i}', nn.ReLU())\n",
    "\n",
    "    def forward(self, x):\n",
    "        return self.layers(x)\n",
    "\n",
    "modelres = skipMLP(layers)\n",
    "print(modelres)\n",
    "\n",
    "total_params = sum(p.numel() for p in modelres.parameters())\n",
    "\n",
    "print(f'Total number of parameters for MLP model: {total_params}')"
   ]
  },
  {
   "cell_type": "code",
   "execution_count": 14,
   "id": "d25d317b-bb8a-4862-82a0-bd4875164a96",
   "metadata": {},
   "outputs": [
    {
     "name": "stderr",
     "output_type": "stream",
     "text": [
      "Training epoch 0: 100%|███████████████████████| 547/547 [00:07<00:00, 73.72it/s]\n",
      "Evaluating: 100%|█████████████████████████████| 235/235 [00:03<00:00, 77.63it/s]\n",
      "Training epoch 1: 100%|███████████████████████| 547/547 [00:07<00:00, 69.57it/s]\n",
      "Evaluating: 100%|█████████████████████████████| 235/235 [00:02<00:00, 91.90it/s]\n",
      "Training epoch 2: 100%|███████████████████████| 547/547 [00:09<00:00, 58.18it/s]\n",
      "Evaluating: 100%|█████████████████████████████| 235/235 [00:03<00:00, 62.36it/s]\n",
      "Training epoch 3: 100%|███████████████████████| 547/547 [00:11<00:00, 49.70it/s]\n",
      "Evaluating: 100%|█████████████████████████████| 235/235 [00:04<00:00, 52.63it/s]\n",
      "Training epoch 4: 100%|███████████████████████| 547/547 [00:10<00:00, 50.84it/s]\n",
      "Evaluating: 100%|█████████████████████████████| 235/235 [00:04<00:00, 56.21it/s]\n"
     ]
    },
    {
     "name": "stdout",
     "output_type": "stream",
     "text": [
      "Minimum loss = 0.3952\n"
     ]
    },
    {
     "ename": "NameError",
     "evalue": "name 'model' is not defined",
     "output_type": "error",
     "traceback": [
      "\u001b[31m---------------------------------------------------------------------------\u001b[39m",
      "\u001b[31mNameError\u001b[39m                                 Traceback (most recent call last)",
      "\u001b[36mCell\u001b[39m\u001b[36m \u001b[39m\u001b[32mIn[14]\u001b[39m\u001b[32m, line 20\u001b[39m\n\u001b[32m     17\u001b[39m losses_and_accs = train_model(modelskip, optimizer, loss, epochs, train_data, eval_data, device, writer)\n\u001b[32m     19\u001b[39m \u001b[38;5;28mprint\u001b[39m(\u001b[33mf\u001b[39m\u001b[33m\"\u001b[39m\u001b[33mMinimum loss = \u001b[39m\u001b[38;5;132;01m{\u001b[39;00mnp.min(losses_and_accs)\u001b[38;5;132;01m}\u001b[39;00m\u001b[33m\"\u001b[39m)\n\u001b[32m---> \u001b[39m\u001b[32m20\u001b[39m (accuracy, _) = evaluate(\u001b[43mmodel\u001b[49m, test_data, device=device)\n\u001b[32m     22\u001b[39m \u001b[38;5;28mprint\u001b[39m(\u001b[33mf\u001b[39m\u001b[33m\"\u001b[39m\u001b[33mAccuracy on test set: \u001b[39m\u001b[38;5;132;01m{\u001b[39;00maccuracy\u001b[38;5;132;01m}\u001b[39;00m\u001b[33m\"\u001b[39m)\n",
      "\u001b[31mNameError\u001b[39m: name 'model' is not defined"
     ]
    }
   ],
   "source": [
    "# Main function 2\n",
    "device = 'cuda' if torch.cuda.is_available() else 'cpu'\n",
    "\n",
    "(train_data, eval_data, test_data) = import_CIFAR()\n",
    "\n",
    "# Instance of the model\n",
    "modelskip = skipMLP(layers)\n",
    "modelskip.to(device)\n",
    "#print(model)\n",
    "\n",
    "# Choose optimizer\n",
    "if opt == 'Adam':\n",
    "    optimizer = torch.optim.Adam(modelskip.parameters(), lr=lr)\n",
    "    \n",
    "writer = SummaryWriter(log_dir=f\"runs/MNIST-model='skipMLP'-lr={lr}-opt={opt}-loss={loss}-epochs={epochs}-batch_size={batch_size}-layers={layers}\")\n",
    "\n",
    "losses_and_accs = train_model(modelskip, optimizer, loss, epochs, train_data, eval_data, device, writer)\n",
    "\n",
    "print(f\"Minimum loss = {np.min(losses_and_accs)}\")\n",
    "(accuracy, _) = evaluate(model, test_data, device=device)\n",
    "\n",
    "print(f\"Accuracy on test set: {accuracy}\")"
   ]
  },
  {
   "cell_type": "markdown",
   "id": "c1c7182b-6799-4337-a59a-a2f6252a92e7",
   "metadata": {},
   "source": [
    "## Exercise 1.3: Rinse and Repeat (but with a CNN)\n",
    "\n",
    "Repeat the verification you did above, but with **Convolutional** Neural Networks. If you were careful about abstracting your model and training code, this should be a simple exercise. Show that **deeper** CNNs *without* residual connections do not always work better and **even deeper** ones *with* residual connections.\n",
    "\n",
    "**Hint**: You probably should do this exercise using CIFAR-10, since MNIST is *very* easy (at least up to about 99% accuracy).\n",
    "\n",
    "**Tip**: Feel free to reuse the ResNet building blocks defined in `torchvision.models.resnet` (e.g. [BasicBlock](https://github.com/pytorch/vision/blob/main/torchvision/models/resnet.py#L59) which handles the cascade of 3x3 convolutions, skip connections, and optional downsampling). This is an excellent exercise in code diving. \n",
    "\n",
    "**Spoiler**: Depending on the optional exercises you plan to do below, you should think *very* carefully about the architectures of your CNNs here (so you can reuse them!)."
   ]
  },
  {
   "cell_type": "code",
   "execution_count": 11,
   "id": "f0797291-ede2-4df7-99e1-32de66f022c2",
   "metadata": {
    "editable": true,
    "slideshow": {
     "slide_type": ""
    },
    "tags": []
   },
   "outputs": [
    {
     "name": "stdout",
     "output_type": "stream",
     "text": [
      "simpleCONV(\n",
      "  (layers): Sequential(\n",
      "    (layer-0): Conv2d(1, 3072, kernel_size=(3, 3), stride=(1, 1), padding=(1, 1))\n",
      "    (batch_norm-0): BatchNorm2d(3072, eps=1e-05, momentum=0.1, affine=True, track_running_stats=True)\n",
      "    (Nonlinearity-layer-0): ReLU()\n",
      "    (MaxPool-0): MaxPool2d(kernel_size=2, stride=2, padding=0, dilation=1, ceil_mode=False)\n",
      "    (layer-1): Conv2d(3072, 64, kernel_size=(3, 3), stride=(1, 1), padding=(1, 1))\n",
      "    (batch_norm-1): BatchNorm2d(64, eps=1e-05, momentum=0.1, affine=True, track_running_stats=True)\n",
      "    (Nonlinearity-layer-1): ReLU()\n",
      "    (MaxPool-1): MaxPool2d(kernel_size=2, stride=2, padding=0, dilation=1, ceil_mode=False)\n",
      "    (layer-2): Conv2d(64, 128, kernel_size=(3, 3), stride=(1, 1), padding=(1, 1))\n",
      "    (batch_norm-2): BatchNorm2d(128, eps=1e-05, momentum=0.1, affine=True, track_running_stats=True)\n",
      "    (Nonlinearity-layer-2): ReLU()\n",
      "    (MaxPool-2): MaxPool2d(kernel_size=2, stride=2, padding=0, dilation=1, ceil_mode=False)\n",
      "    (layer-3): Conv2d(128, 64, kernel_size=(3, 3), stride=(1, 1), padding=(1, 1))\n",
      "    (batch_norm-3): BatchNorm2d(64, eps=1e-05, momentum=0.1, affine=True, track_running_stats=True)\n",
      "    (Nonlinearity-layer-3): ReLU()\n",
      "    (MaxPool-3): MaxPool2d(kernel_size=2, stride=2, padding=0, dilation=1, ceil_mode=False)\n",
      "    (layer-flatten): Flatten(start_dim=1, end_dim=-1)\n",
      "    (linear-layer): Linear(in_features=64, out_features=10, bias=True)\n",
      "  )\n",
      ")\n",
      "Total number of parameters for MLP model: 1955210\n"
     ]
    }
   ],
   "source": [
    "\n",
    "#layers = [32, 64, 64, 64, 64, 10]\n",
    "\n",
    "class simpleCONV(nn.Module):\n",
    "    def __init__(self, layer_sizes, size=28, in_channels=1, kernel_size=3, stride=1, padding=1):\n",
    "        super().__init__()\n",
    "        countMaxPools = 0\n",
    "        self.layers = nn.Sequential()\n",
    "        current_size = size\n",
    "  \n",
    "        for i in range(len(layer_sizes)-2):\n",
    "            self.layers.add_module(f'layer-{i}', nn.Conv2d(in_channels, layer_sizes[i], kernel_size, stride, padding))\n",
    "            in_channels = layer_sizes[i]\n",
    "            self.layers.add_module(f'batch_norm-{i}', nn.BatchNorm2d(layer_sizes[i]))\n",
    "            self.layers.add_module(f'Nonlinearity-layer-{i}', nn.ReLU())\n",
    "            current_size = int((current_size - kernel_size + 2 * padding) / (stride))+1\n",
    "            self.layers.add_module(f'MaxPool-{i}', nn.MaxPool2d(kernel_size=2, stride=2))\n",
    "            current_size = int(current_size/2)\n",
    "\n",
    "        self.layers.add_module(f'layer-flatten', nn.Flatten())\n",
    "        self.layers.add_module(f'linear-layer', nn.Linear(layer_sizes[-2]*current_size*current_size, layer_sizes[-1]))\n",
    "     \n",
    "    def forward(self, x):\n",
    "        return self.layers(x)\n",
    "\n",
    "modelconv = simpleCONV(layers)\n",
    "print(modelconv)\n",
    "\n",
    "total_params = sum(p.numel() for p in modelconv.parameters())\n",
    "\n",
    "print(f'Total number of parameters for MLP model: {total_params}')\n",
    "\n",
    "# Implementare anche fullyCONV\n"
   ]
  },
  {
   "cell_type": "code",
   "execution_count": 12,
   "id": "3446f089-98d0-46e4-b09f-7ba23f217f43",
   "metadata": {},
   "outputs": [
    {
     "name": "stdout",
     "output_type": "stream",
     "text": [
      "Training on cpu\n",
      "Loading dataset...\n",
      "Training a simple CNN with Adam and CrossEntropy\n"
     ]
    },
    {
     "name": "stderr",
     "output_type": "stream",
     "text": [
      "Training epoch 0:   0%|                         | 2/547 [00:12<58:42,  6.46s/it]\n"
     ]
    },
    {
     "ename": "KeyboardInterrupt",
     "evalue": "",
     "output_type": "error",
     "traceback": [
      "\u001b[31m---------------------------------------------------------------------------\u001b[39m",
      "\u001b[31mKeyboardInterrupt\u001b[39m                         Traceback (most recent call last)",
      "\u001b[36mCell\u001b[39m\u001b[36m \u001b[39m\u001b[32mIn[12]\u001b[39m\u001b[32m, line 23\u001b[39m\n\u001b[32m     19\u001b[39m     optimizer = torch.optim.Adam(modelconv.parameters(), lr=lr)\n\u001b[32m     21\u001b[39m writer = SummaryWriter(log_dir=\u001b[33mf\u001b[39m\u001b[33m\"\u001b[39m\u001b[33mruns/MNIST-model=\u001b[39m\u001b[33m'\u001b[39m\u001b[33mfullyCONV\u001b[39m\u001b[33m'\u001b[39m\u001b[33m-lr=\u001b[39m\u001b[38;5;132;01m{\u001b[39;00mlr\u001b[38;5;132;01m}\u001b[39;00m\u001b[33m-opt=\u001b[39m\u001b[38;5;132;01m{\u001b[39;00mopt\u001b[38;5;132;01m}\u001b[39;00m\u001b[33m-loss=\u001b[39m\u001b[38;5;132;01m{\u001b[39;00mloss\u001b[38;5;132;01m}\u001b[39;00m\u001b[33m-epochs=\u001b[39m\u001b[38;5;132;01m{\u001b[39;00mepochs\u001b[38;5;132;01m}\u001b[39;00m\u001b[33m-batch_size=\u001b[39m\u001b[38;5;132;01m{\u001b[39;00mbatch_size\u001b[38;5;132;01m}\u001b[39;00m\u001b[33m-layers=\u001b[39m\u001b[38;5;132;01m{\u001b[39;00mlayers\u001b[38;5;132;01m}\u001b[39;00m\u001b[33m\"\u001b[39m)\n\u001b[32m---> \u001b[39m\u001b[32m23\u001b[39m losses_and_accs = \u001b[43mtrain_model\u001b[49m\u001b[43m(\u001b[49m\u001b[43mmodelconv\u001b[49m\u001b[43m,\u001b[49m\u001b[43m \u001b[49m\u001b[43moptimizer\u001b[49m\u001b[43m,\u001b[49m\u001b[43m \u001b[49m\u001b[43mloss\u001b[49m\u001b[43m,\u001b[49m\u001b[43m \u001b[49m\u001b[43mepochs\u001b[49m\u001b[43m,\u001b[49m\u001b[43m \u001b[49m\u001b[43mtrain_data\u001b[49m\u001b[43m,\u001b[49m\u001b[43m \u001b[49m\u001b[43meval_data\u001b[49m\u001b[43m,\u001b[49m\u001b[43m \u001b[49m\u001b[43mdevice\u001b[49m\u001b[43m,\u001b[49m\u001b[43m \u001b[49m\u001b[43mwriter\u001b[49m\u001b[43m)\u001b[49m\n\u001b[32m     24\u001b[39m \u001b[38;5;28mprint\u001b[39m(\u001b[33mf\u001b[39m\u001b[33m\"\u001b[39m\u001b[33mMinimum loss = \u001b[39m\u001b[38;5;132;01m{\u001b[39;00mnp.min(losses_and_accs)\u001b[38;5;132;01m}\u001b[39;00m\u001b[33m\"\u001b[39m)\n\u001b[32m     25\u001b[39m (accuracy, _) = evaluate(model, test_data, device=device)\n",
      "\u001b[36mCell\u001b[39m\u001b[36m \u001b[39m\u001b[32mIn[10]\u001b[39m\u001b[32m, line 26\u001b[39m, in \u001b[36mtrain_model\u001b[39m\u001b[34m(model, optimizer, loss, epochs, train_data, eval_data, device, writer, model_type)\u001b[39m\n\u001b[32m     24\u001b[39m losses_and_accs = []\n\u001b[32m     25\u001b[39m \u001b[38;5;28;01mfor\u001b[39;00m epoch \u001b[38;5;129;01min\u001b[39;00m \u001b[38;5;28mrange\u001b[39m(epochs):\n\u001b[32m---> \u001b[39m\u001b[32m26\u001b[39m     loss_value = \u001b[43mtrain_batch\u001b[49m\u001b[43m(\u001b[49m\u001b[43mepoch\u001b[49m\u001b[43m,\u001b[49m\u001b[43m \u001b[49m\u001b[43mmodel\u001b[49m\u001b[43m,\u001b[49m\u001b[43m \u001b[49m\u001b[43moptimizer\u001b[49m\u001b[43m,\u001b[49m\u001b[43m \u001b[49m\u001b[43mloss\u001b[49m\u001b[43m,\u001b[49m\u001b[43m \u001b[49m\u001b[43mtrain_data\u001b[49m\u001b[43m,\u001b[49m\u001b[43m \u001b[49m\u001b[43mdevice\u001b[49m\u001b[43m,\u001b[49m\u001b[43m \u001b[49m\u001b[43mwriter\u001b[49m\u001b[43m)\u001b[49m\n\u001b[32m     27\u001b[39m     (accuracy, _) = evaluate(model, eval_data, device)\n\u001b[32m     28\u001b[39m     losses_and_accs.append((loss_value, accuracy))\n",
      "\u001b[36mCell\u001b[39m\u001b[36m \u001b[39m\u001b[32mIn[10]\u001b[39m\u001b[32m, line 7\u001b[39m, in \u001b[36mtrain_batch\u001b[39m\u001b[34m(epoch, model, optimizer, loss_fn, train_data, device, writer)\u001b[39m\n\u001b[32m      5\u001b[39m label = label.to(device)\n\u001b[32m      6\u001b[39m optimizer.zero_grad()\n\u001b[32m----> \u001b[39m\u001b[32m7\u001b[39m prediction = \u001b[43mmodel\u001b[49m\u001b[43m(\u001b[49m\u001b[43mvalue\u001b[49m\u001b[43m)\u001b[49m\n\u001b[32m      9\u001b[39m \u001b[38;5;66;03m# Choose loss function\u001b[39;00m\n\u001b[32m     10\u001b[39m \u001b[38;5;28;01mif\u001b[39;00m loss == \u001b[33m'\u001b[39m\u001b[33mCrossEntropy\u001b[39m\u001b[33m'\u001b[39m:\n",
      "\u001b[36mFile \u001b[39m\u001b[32m~/anaconda3/envs/DLA/lib/python3.13/site-packages/torch/nn/modules/module.py:1739\u001b[39m, in \u001b[36mModule._wrapped_call_impl\u001b[39m\u001b[34m(self, *args, **kwargs)\u001b[39m\n\u001b[32m   1737\u001b[39m     \u001b[38;5;28;01mreturn\u001b[39;00m \u001b[38;5;28mself\u001b[39m._compiled_call_impl(*args, **kwargs)  \u001b[38;5;66;03m# type: ignore[misc]\u001b[39;00m\n\u001b[32m   1738\u001b[39m \u001b[38;5;28;01melse\u001b[39;00m:\n\u001b[32m-> \u001b[39m\u001b[32m1739\u001b[39m     \u001b[38;5;28;01mreturn\u001b[39;00m \u001b[38;5;28;43mself\u001b[39;49m\u001b[43m.\u001b[49m\u001b[43m_call_impl\u001b[49m\u001b[43m(\u001b[49m\u001b[43m*\u001b[49m\u001b[43margs\u001b[49m\u001b[43m,\u001b[49m\u001b[43m \u001b[49m\u001b[43m*\u001b[49m\u001b[43m*\u001b[49m\u001b[43mkwargs\u001b[49m\u001b[43m)\u001b[49m\n",
      "\u001b[36mFile \u001b[39m\u001b[32m~/anaconda3/envs/DLA/lib/python3.13/site-packages/torch/nn/modules/module.py:1750\u001b[39m, in \u001b[36mModule._call_impl\u001b[39m\u001b[34m(self, *args, **kwargs)\u001b[39m\n\u001b[32m   1745\u001b[39m \u001b[38;5;66;03m# If we don't have any hooks, we want to skip the rest of the logic in\u001b[39;00m\n\u001b[32m   1746\u001b[39m \u001b[38;5;66;03m# this function, and just call forward.\u001b[39;00m\n\u001b[32m   1747\u001b[39m \u001b[38;5;28;01mif\u001b[39;00m \u001b[38;5;129;01mnot\u001b[39;00m (\u001b[38;5;28mself\u001b[39m._backward_hooks \u001b[38;5;129;01mor\u001b[39;00m \u001b[38;5;28mself\u001b[39m._backward_pre_hooks \u001b[38;5;129;01mor\u001b[39;00m \u001b[38;5;28mself\u001b[39m._forward_hooks \u001b[38;5;129;01mor\u001b[39;00m \u001b[38;5;28mself\u001b[39m._forward_pre_hooks\n\u001b[32m   1748\u001b[39m         \u001b[38;5;129;01mor\u001b[39;00m _global_backward_pre_hooks \u001b[38;5;129;01mor\u001b[39;00m _global_backward_hooks\n\u001b[32m   1749\u001b[39m         \u001b[38;5;129;01mor\u001b[39;00m _global_forward_hooks \u001b[38;5;129;01mor\u001b[39;00m _global_forward_pre_hooks):\n\u001b[32m-> \u001b[39m\u001b[32m1750\u001b[39m     \u001b[38;5;28;01mreturn\u001b[39;00m \u001b[43mforward_call\u001b[49m\u001b[43m(\u001b[49m\u001b[43m*\u001b[49m\u001b[43margs\u001b[49m\u001b[43m,\u001b[49m\u001b[43m \u001b[49m\u001b[43m*\u001b[49m\u001b[43m*\u001b[49m\u001b[43mkwargs\u001b[49m\u001b[43m)\u001b[49m\n\u001b[32m   1752\u001b[39m result = \u001b[38;5;28;01mNone\u001b[39;00m\n\u001b[32m   1753\u001b[39m called_always_called_hooks = \u001b[38;5;28mset\u001b[39m()\n",
      "\u001b[36mCell\u001b[39m\u001b[36m \u001b[39m\u001b[32mIn[11]\u001b[39m\u001b[32m, line 23\u001b[39m, in \u001b[36msimpleCONV.forward\u001b[39m\u001b[34m(self, x)\u001b[39m\n\u001b[32m     22\u001b[39m \u001b[38;5;28;01mdef\u001b[39;00m\u001b[38;5;250m \u001b[39m\u001b[34mforward\u001b[39m(\u001b[38;5;28mself\u001b[39m, x):\n\u001b[32m---> \u001b[39m\u001b[32m23\u001b[39m     \u001b[38;5;28;01mreturn\u001b[39;00m \u001b[38;5;28;43mself\u001b[39;49m\u001b[43m.\u001b[49m\u001b[43mlayers\u001b[49m\u001b[43m(\u001b[49m\u001b[43mx\u001b[49m\u001b[43m)\u001b[49m\n",
      "\u001b[36mFile \u001b[39m\u001b[32m~/anaconda3/envs/DLA/lib/python3.13/site-packages/torch/nn/modules/module.py:1739\u001b[39m, in \u001b[36mModule._wrapped_call_impl\u001b[39m\u001b[34m(self, *args, **kwargs)\u001b[39m\n\u001b[32m   1737\u001b[39m     \u001b[38;5;28;01mreturn\u001b[39;00m \u001b[38;5;28mself\u001b[39m._compiled_call_impl(*args, **kwargs)  \u001b[38;5;66;03m# type: ignore[misc]\u001b[39;00m\n\u001b[32m   1738\u001b[39m \u001b[38;5;28;01melse\u001b[39;00m:\n\u001b[32m-> \u001b[39m\u001b[32m1739\u001b[39m     \u001b[38;5;28;01mreturn\u001b[39;00m \u001b[38;5;28;43mself\u001b[39;49m\u001b[43m.\u001b[49m\u001b[43m_call_impl\u001b[49m\u001b[43m(\u001b[49m\u001b[43m*\u001b[49m\u001b[43margs\u001b[49m\u001b[43m,\u001b[49m\u001b[43m \u001b[49m\u001b[43m*\u001b[49m\u001b[43m*\u001b[49m\u001b[43mkwargs\u001b[49m\u001b[43m)\u001b[49m\n",
      "\u001b[36mFile \u001b[39m\u001b[32m~/anaconda3/envs/DLA/lib/python3.13/site-packages/torch/nn/modules/module.py:1750\u001b[39m, in \u001b[36mModule._call_impl\u001b[39m\u001b[34m(self, *args, **kwargs)\u001b[39m\n\u001b[32m   1745\u001b[39m \u001b[38;5;66;03m# If we don't have any hooks, we want to skip the rest of the logic in\u001b[39;00m\n\u001b[32m   1746\u001b[39m \u001b[38;5;66;03m# this function, and just call forward.\u001b[39;00m\n\u001b[32m   1747\u001b[39m \u001b[38;5;28;01mif\u001b[39;00m \u001b[38;5;129;01mnot\u001b[39;00m (\u001b[38;5;28mself\u001b[39m._backward_hooks \u001b[38;5;129;01mor\u001b[39;00m \u001b[38;5;28mself\u001b[39m._backward_pre_hooks \u001b[38;5;129;01mor\u001b[39;00m \u001b[38;5;28mself\u001b[39m._forward_hooks \u001b[38;5;129;01mor\u001b[39;00m \u001b[38;5;28mself\u001b[39m._forward_pre_hooks\n\u001b[32m   1748\u001b[39m         \u001b[38;5;129;01mor\u001b[39;00m _global_backward_pre_hooks \u001b[38;5;129;01mor\u001b[39;00m _global_backward_hooks\n\u001b[32m   1749\u001b[39m         \u001b[38;5;129;01mor\u001b[39;00m _global_forward_hooks \u001b[38;5;129;01mor\u001b[39;00m _global_forward_pre_hooks):\n\u001b[32m-> \u001b[39m\u001b[32m1750\u001b[39m     \u001b[38;5;28;01mreturn\u001b[39;00m \u001b[43mforward_call\u001b[49m\u001b[43m(\u001b[49m\u001b[43m*\u001b[49m\u001b[43margs\u001b[49m\u001b[43m,\u001b[49m\u001b[43m \u001b[49m\u001b[43m*\u001b[49m\u001b[43m*\u001b[49m\u001b[43mkwargs\u001b[49m\u001b[43m)\u001b[49m\n\u001b[32m   1752\u001b[39m result = \u001b[38;5;28;01mNone\u001b[39;00m\n\u001b[32m   1753\u001b[39m called_always_called_hooks = \u001b[38;5;28mset\u001b[39m()\n",
      "\u001b[36mFile \u001b[39m\u001b[32m~/anaconda3/envs/DLA/lib/python3.13/site-packages/torch/nn/modules/container.py:250\u001b[39m, in \u001b[36mSequential.forward\u001b[39m\u001b[34m(self, input)\u001b[39m\n\u001b[32m    248\u001b[39m \u001b[38;5;28;01mdef\u001b[39;00m\u001b[38;5;250m \u001b[39m\u001b[34mforward\u001b[39m(\u001b[38;5;28mself\u001b[39m, \u001b[38;5;28minput\u001b[39m):\n\u001b[32m    249\u001b[39m     \u001b[38;5;28;01mfor\u001b[39;00m module \u001b[38;5;129;01min\u001b[39;00m \u001b[38;5;28mself\u001b[39m:\n\u001b[32m--> \u001b[39m\u001b[32m250\u001b[39m         \u001b[38;5;28minput\u001b[39m = \u001b[43mmodule\u001b[49m\u001b[43m(\u001b[49m\u001b[38;5;28;43minput\u001b[39;49m\u001b[43m)\u001b[49m\n\u001b[32m    251\u001b[39m     \u001b[38;5;28;01mreturn\u001b[39;00m \u001b[38;5;28minput\u001b[39m\n",
      "\u001b[36mFile \u001b[39m\u001b[32m~/anaconda3/envs/DLA/lib/python3.13/site-packages/torch/nn/modules/module.py:1739\u001b[39m, in \u001b[36mModule._wrapped_call_impl\u001b[39m\u001b[34m(self, *args, **kwargs)\u001b[39m\n\u001b[32m   1737\u001b[39m     \u001b[38;5;28;01mreturn\u001b[39;00m \u001b[38;5;28mself\u001b[39m._compiled_call_impl(*args, **kwargs)  \u001b[38;5;66;03m# type: ignore[misc]\u001b[39;00m\n\u001b[32m   1738\u001b[39m \u001b[38;5;28;01melse\u001b[39;00m:\n\u001b[32m-> \u001b[39m\u001b[32m1739\u001b[39m     \u001b[38;5;28;01mreturn\u001b[39;00m \u001b[38;5;28;43mself\u001b[39;49m\u001b[43m.\u001b[49m\u001b[43m_call_impl\u001b[49m\u001b[43m(\u001b[49m\u001b[43m*\u001b[49m\u001b[43margs\u001b[49m\u001b[43m,\u001b[49m\u001b[43m \u001b[49m\u001b[43m*\u001b[49m\u001b[43m*\u001b[49m\u001b[43mkwargs\u001b[49m\u001b[43m)\u001b[49m\n",
      "\u001b[36mFile \u001b[39m\u001b[32m~/anaconda3/envs/DLA/lib/python3.13/site-packages/torch/nn/modules/module.py:1750\u001b[39m, in \u001b[36mModule._call_impl\u001b[39m\u001b[34m(self, *args, **kwargs)\u001b[39m\n\u001b[32m   1745\u001b[39m \u001b[38;5;66;03m# If we don't have any hooks, we want to skip the rest of the logic in\u001b[39;00m\n\u001b[32m   1746\u001b[39m \u001b[38;5;66;03m# this function, and just call forward.\u001b[39;00m\n\u001b[32m   1747\u001b[39m \u001b[38;5;28;01mif\u001b[39;00m \u001b[38;5;129;01mnot\u001b[39;00m (\u001b[38;5;28mself\u001b[39m._backward_hooks \u001b[38;5;129;01mor\u001b[39;00m \u001b[38;5;28mself\u001b[39m._backward_pre_hooks \u001b[38;5;129;01mor\u001b[39;00m \u001b[38;5;28mself\u001b[39m._forward_hooks \u001b[38;5;129;01mor\u001b[39;00m \u001b[38;5;28mself\u001b[39m._forward_pre_hooks\n\u001b[32m   1748\u001b[39m         \u001b[38;5;129;01mor\u001b[39;00m _global_backward_pre_hooks \u001b[38;5;129;01mor\u001b[39;00m _global_backward_hooks\n\u001b[32m   1749\u001b[39m         \u001b[38;5;129;01mor\u001b[39;00m _global_forward_hooks \u001b[38;5;129;01mor\u001b[39;00m _global_forward_pre_hooks):\n\u001b[32m-> \u001b[39m\u001b[32m1750\u001b[39m     \u001b[38;5;28;01mreturn\u001b[39;00m \u001b[43mforward_call\u001b[49m\u001b[43m(\u001b[49m\u001b[43m*\u001b[49m\u001b[43margs\u001b[49m\u001b[43m,\u001b[49m\u001b[43m \u001b[49m\u001b[43m*\u001b[49m\u001b[43m*\u001b[49m\u001b[43mkwargs\u001b[49m\u001b[43m)\u001b[49m\n\u001b[32m   1752\u001b[39m result = \u001b[38;5;28;01mNone\u001b[39;00m\n\u001b[32m   1753\u001b[39m called_always_called_hooks = \u001b[38;5;28mset\u001b[39m()\n",
      "\u001b[36mFile \u001b[39m\u001b[32m~/anaconda3/envs/DLA/lib/python3.13/site-packages/torch/nn/modules/pooling.py:213\u001b[39m, in \u001b[36mMaxPool2d.forward\u001b[39m\u001b[34m(self, input)\u001b[39m\n\u001b[32m    212\u001b[39m \u001b[38;5;28;01mdef\u001b[39;00m\u001b[38;5;250m \u001b[39m\u001b[34mforward\u001b[39m(\u001b[38;5;28mself\u001b[39m, \u001b[38;5;28minput\u001b[39m: Tensor):\n\u001b[32m--> \u001b[39m\u001b[32m213\u001b[39m     \u001b[38;5;28;01mreturn\u001b[39;00m \u001b[43mF\u001b[49m\u001b[43m.\u001b[49m\u001b[43mmax_pool2d\u001b[49m\u001b[43m(\u001b[49m\n\u001b[32m    214\u001b[39m \u001b[43m        \u001b[49m\u001b[38;5;28;43minput\u001b[39;49m\u001b[43m,\u001b[49m\n\u001b[32m    215\u001b[39m \u001b[43m        \u001b[49m\u001b[38;5;28;43mself\u001b[39;49m\u001b[43m.\u001b[49m\u001b[43mkernel_size\u001b[49m\u001b[43m,\u001b[49m\n\u001b[32m    216\u001b[39m \u001b[43m        \u001b[49m\u001b[38;5;28;43mself\u001b[39;49m\u001b[43m.\u001b[49m\u001b[43mstride\u001b[49m\u001b[43m,\u001b[49m\n\u001b[32m    217\u001b[39m \u001b[43m        \u001b[49m\u001b[38;5;28;43mself\u001b[39;49m\u001b[43m.\u001b[49m\u001b[43mpadding\u001b[49m\u001b[43m,\u001b[49m\n\u001b[32m    218\u001b[39m \u001b[43m        \u001b[49m\u001b[38;5;28;43mself\u001b[39;49m\u001b[43m.\u001b[49m\u001b[43mdilation\u001b[49m\u001b[43m,\u001b[49m\n\u001b[32m    219\u001b[39m \u001b[43m        \u001b[49m\u001b[43mceil_mode\u001b[49m\u001b[43m=\u001b[49m\u001b[38;5;28;43mself\u001b[39;49m\u001b[43m.\u001b[49m\u001b[43mceil_mode\u001b[49m\u001b[43m,\u001b[49m\n\u001b[32m    220\u001b[39m \u001b[43m        \u001b[49m\u001b[43mreturn_indices\u001b[49m\u001b[43m=\u001b[49m\u001b[38;5;28;43mself\u001b[39;49m\u001b[43m.\u001b[49m\u001b[43mreturn_indices\u001b[49m\u001b[43m,\u001b[49m\n\u001b[32m    221\u001b[39m \u001b[43m    \u001b[49m\u001b[43m)\u001b[49m\n",
      "\u001b[36mFile \u001b[39m\u001b[32m~/anaconda3/envs/DLA/lib/python3.13/site-packages/torch/_jit_internal.py:624\u001b[39m, in \u001b[36mboolean_dispatch.<locals>.fn\u001b[39m\u001b[34m(*args, **kwargs)\u001b[39m\n\u001b[32m    622\u001b[39m     \u001b[38;5;28;01mreturn\u001b[39;00m if_true(*args, **kwargs)\n\u001b[32m    623\u001b[39m \u001b[38;5;28;01melse\u001b[39;00m:\n\u001b[32m--> \u001b[39m\u001b[32m624\u001b[39m     \u001b[38;5;28;01mreturn\u001b[39;00m \u001b[43mif_false\u001b[49m\u001b[43m(\u001b[49m\u001b[43m*\u001b[49m\u001b[43margs\u001b[49m\u001b[43m,\u001b[49m\u001b[43m \u001b[49m\u001b[43m*\u001b[49m\u001b[43m*\u001b[49m\u001b[43mkwargs\u001b[49m\u001b[43m)\u001b[49m\n",
      "\u001b[36mFile \u001b[39m\u001b[32m~/anaconda3/envs/DLA/lib/python3.13/site-packages/torch/nn/functional.py:830\u001b[39m, in \u001b[36m_max_pool2d\u001b[39m\u001b[34m(input, kernel_size, stride, padding, dilation, ceil_mode, return_indices)\u001b[39m\n\u001b[32m    828\u001b[39m \u001b[38;5;28;01mif\u001b[39;00m stride \u001b[38;5;129;01mis\u001b[39;00m \u001b[38;5;28;01mNone\u001b[39;00m:\n\u001b[32m    829\u001b[39m     stride = torch.jit.annotate(List[\u001b[38;5;28mint\u001b[39m], [])\n\u001b[32m--> \u001b[39m\u001b[32m830\u001b[39m \u001b[38;5;28;01mreturn\u001b[39;00m \u001b[43mtorch\u001b[49m\u001b[43m.\u001b[49m\u001b[43mmax_pool2d\u001b[49m\u001b[43m(\u001b[49m\u001b[38;5;28;43minput\u001b[39;49m\u001b[43m,\u001b[49m\u001b[43m \u001b[49m\u001b[43mkernel_size\u001b[49m\u001b[43m,\u001b[49m\u001b[43m \u001b[49m\u001b[43mstride\u001b[49m\u001b[43m,\u001b[49m\u001b[43m \u001b[49m\u001b[43mpadding\u001b[49m\u001b[43m,\u001b[49m\u001b[43m \u001b[49m\u001b[43mdilation\u001b[49m\u001b[43m,\u001b[49m\u001b[43m \u001b[49m\u001b[43mceil_mode\u001b[49m\u001b[43m)\u001b[49m\n",
      "\u001b[31mKeyboardInterrupt\u001b[39m: "
     ]
    }
   ],
   "source": [
    "# Main function 3\n",
    "device = 'cuda' if torch.cuda.is_available() else 'cpu'\n",
    "print(f\"Training on {device}\")\n",
    "\n",
    "print(\"Loading dataset...\")\n",
    "(train_data, eval_data, test_data) = import_CIFAR()\n",
    "\n",
    "\n",
    "# Instance of the model\n",
    "print(f\"Training a simple CNN with {opt} and {loss}\")\n",
    "\n",
    "# Instance of the model\n",
    "modelconv = simpleCONV(layers, 32, 3)\n",
    "modelconv.to(device)\n",
    "#print(model)\n",
    "\n",
    "# Choose optimizer\n",
    "if opt == 'Adam':\n",
    "    optimizer = torch.optim.Adam(modelconv.parameters(), lr=lr)\n",
    "\n",
    "writer = SummaryWriter(log_dir=f\"runs/MNIST-model='fullyCONV'-lr={lr}-opt={opt}-loss={loss}-epochs={epochs}-batch_size={batch_size}-layers={layers}\")\n",
    "\n",
    "losses_and_accs = train_model(modelconv, optimizer, loss, epochs, train_data, eval_data, device, writer)\n",
    "print(f\"Minimum loss = {np.min(losses_and_accs)}\")\n",
    "(accuracy, _) = evaluate(model, test_data, device=device)\n",
    "\n",
    "print(f\"Accuracy on test set: {accuracy}\")"
   ]
  },
  {
   "cell_type": "code",
   "execution_count": 117,
   "id": "afa9ee35-3261-4e66-a947-39a33ce7cd95",
   "metadata": {},
   "outputs": [
    {
     "name": "stdout",
     "output_type": "stream",
     "text": [
      "0.0026895056160908377\n"
     ]
    },
    {
     "name": "stderr",
     "output_type": "stream",
     "text": [
      "Evaluating: 100%|█████████████████████████████| 157/157 [00:02<00:00, 58.31it/s]"
     ]
    },
    {
     "name": "stdout",
     "output_type": "stream",
     "text": [
      "Accuracy report on TEST:\n",
      "               precision    recall  f1-score   support\n",
      "\n",
      "         0.0      0.971     0.990     0.980       980\n",
      "         1.0      0.981     0.986     0.983      1135\n",
      "         2.0      0.958     0.974     0.966      1032\n",
      "         3.0      0.955     0.978     0.966      1010\n",
      "         4.0      0.957     0.973     0.965       982\n",
      "         5.0      0.974     0.950     0.961       892\n",
      "         6.0      0.969     0.975     0.972       958\n",
      "         7.0      0.979     0.958     0.969      1028\n",
      "         8.0      0.958     0.952     0.955       974\n",
      "         9.0      0.974     0.937     0.955      1009\n",
      "\n",
      "    accuracy                          0.968     10000\n",
      "   macro avg      0.967     0.967     0.967     10000\n",
      "weighted avg      0.968     0.968     0.967     10000\n",
      "\n"
     ]
    },
    {
     "name": "stderr",
     "output_type": "stream",
     "text": [
      "\n"
     ]
    },
    {
     "data": {
      "image/png": "[encoded data removed]",
      "text/plain": [
       "<Figure size 1600x800 with 2 Axes>"
      ]
     },
     "metadata": {},
     "output_type": "display_data"
    }
   ],
   "source": [
    "#Testing model\n",
    "print(np.min(losses_and_accs))\n",
    "plot_validation_curves(losses_and_accs)\n",
    "print(f'Accuracy report on TEST:\\n {evaluate(model, test_data, device=device)[1]}')"
   ]
  },
  {
   "cell_type": "code",
   "execution_count": 21,
   "id": "4e217146-d6b5-477b-a6d5-fc6e20ff2916",
   "metadata": {},
   "outputs": [
    {
     "name": "stdout",
     "output_type": "stream",
     "text": [
      "MNIST, simpleMLP, Adam, CrossEntropy, 0.01, 10, [784, 64, 64, 64, 10], 64\n",
      "MNIST, simpleMLP, Adam, CrossEntropy, 0.01, 10, [784, 64, 64, 64, 10], 128\n",
      "MNIST, simpleMLP, Adam, CrossEntropy, 0.01, 10, [784, 64, 64, 128, 256, 64, 64, 10], 64\n",
      "MNIST, simpleMLP, Adam, CrossEntropy, 0.01, 10, [784, 64, 64, 128, 256, 64, 64, 10], 128\n",
      "MNIST, simpleMLP, Adam, CrossEntropy, 0.01, 20, [784, 64, 64, 64, 10], 64\n",
      "MNIST, simpleMLP, Adam, CrossEntropy, 0.01, 20, [784, 64, 64, 64, 10], 128\n",
      "MNIST, simpleMLP, Adam, CrossEntropy, 0.01, 20, [784, 64, 64, 128, 256, 64, 64, 10], 64\n",
      "MNIST, simpleMLP, Adam, CrossEntropy, 0.01, 20, [784, 64, 64, 128, 256, 64, 64, 10], 128\n",
      "MNIST, simpleMLP, Adam, CrossEntropy, 0.001, 10, [784, 64, 64, 64, 10], 64\n",
      "MNIST, simpleMLP, Adam, CrossEntropy, 0.001, 10, [784, 64, 64, 64, 10], 128\n",
      "MNIST, simpleMLP, Adam, CrossEntropy, 0.001, 10, [784, 64, 64, 128, 256, 64, 64, 10], 64\n",
      "MNIST, simpleMLP, Adam, CrossEntropy, 0.001, 10, [784, 64, 64, 128, 256, 64, 64, 10], 128\n",
      "MNIST, simpleMLP, Adam, CrossEntropy, 0.001, 20, [784, 64, 64, 64, 10], 64\n",
      "MNIST, simpleMLP, Adam, CrossEntropy, 0.001, 20, [784, 64, 64, 64, 10], 128\n",
      "MNIST, simpleMLP, Adam, CrossEntropy, 0.001, 20, [784, 64, 64, 128, 256, 64, 64, 10], 64\n",
      "MNIST, simpleMLP, Adam, CrossEntropy, 0.001, 20, [784, 64, 64, 128, 256, 64, 64, 10], 128\n",
      "MNIST, simpleMLP, Adam, CrossEntropy, 0.0001, 10, [784, 64, 64, 64, 10], 64\n",
      "MNIST, simpleMLP, Adam, CrossEntropy, 0.0001, 10, [784, 64, 64, 64, 10], 128\n",
      "MNIST, simpleMLP, Adam, CrossEntropy, 0.0001, 10, [784, 64, 64, 128, 256, 64, 64, 10], 64\n",
      "MNIST, simpleMLP, Adam, CrossEntropy, 0.0001, 10, [784, 64, 64, 128, 256, 64, 64, 10], 128\n",
      "MNIST, simpleMLP, Adam, CrossEntropy, 0.0001, 20, [784, 64, 64, 64, 10], 64\n",
      "MNIST, simpleMLP, Adam, CrossEntropy, 0.0001, 20, [784, 64, 64, 64, 10], 128\n",
      "MNIST, simpleMLP, Adam, CrossEntropy, 0.0001, 20, [784, 64, 64, 128, 256, 64, 64, 10], 64\n",
      "MNIST, simpleMLP, Adam, CrossEntropy, 0.0001, 20, [784, 64, 64, 128, 256, 64, 64, 10], 128\n",
      "MNIST, skipMLP, Adam, CrossEntropy, 0.01, 10, [784, 64, 64, 64, 10], 64\n",
      "MNIST, skipMLP, Adam, CrossEntropy, 0.01, 10, [784, 64, 64, 64, 10], 128\n",
      "MNIST, skipMLP, Adam, CrossEntropy, 0.01, 10, [784, 64, 64, 128, 256, 64, 64, 10], 64\n",
      "MNIST, skipMLP, Adam, CrossEntropy, 0.01, 10, [784, 64, 64, 128, 256, 64, 64, 10], 128\n",
      "MNIST, skipMLP, Adam, CrossEntropy, 0.01, 20, [784, 64, 64, 64, 10], 64\n",
      "MNIST, skipMLP, Adam, CrossEntropy, 0.01, 20, [784, 64, 64, 64, 10], 128\n",
      "MNIST, skipMLP, Adam, CrossEntropy, 0.01, 20, [784, 64, 64, 128, 256, 64, 64, 10], 64\n",
      "MNIST, skipMLP, Adam, CrossEntropy, 0.01, 20, [784, 64, 64, 128, 256, 64, 64, 10], 128\n",
      "MNIST, skipMLP, Adam, CrossEntropy, 0.001, 10, [784, 64, 64, 64, 10], 64\n",
      "MNIST, skipMLP, Adam, CrossEntropy, 0.001, 10, [784, 64, 64, 64, 10], 128\n",
      "MNIST, skipMLP, Adam, CrossEntropy, 0.001, 10, [784, 64, 64, 128, 256, 64, 64, 10], 64\n",
      "MNIST, skipMLP, Adam, CrossEntropy, 0.001, 10, [784, 64, 64, 128, 256, 64, 64, 10], 128\n",
      "MNIST, skipMLP, Adam, CrossEntropy, 0.001, 20, [784, 64, 64, 64, 10], 64\n",
      "MNIST, skipMLP, Adam, CrossEntropy, 0.001, 20, [784, 64, 64, 64, 10], 128\n",
      "MNIST, skipMLP, Adam, CrossEntropy, 0.001, 20, [784, 64, 64, 128, 256, 64, 64, 10], 64\n",
      "MNIST, skipMLP, Adam, CrossEntropy, 0.001, 20, [784, 64, 64, 128, 256, 64, 64, 10], 128\n",
      "MNIST, skipMLP, Adam, CrossEntropy, 0.0001, 10, [784, 64, 64, 64, 10], 64\n",
      "MNIST, skipMLP, Adam, CrossEntropy, 0.0001, 10, [784, 64, 64, 64, 10], 128\n",
      "MNIST, skipMLP, Adam, CrossEntropy, 0.0001, 10, [784, 64, 64, 128, 256, 64, 64, 10], 64\n",
      "MNIST, skipMLP, Adam, CrossEntropy, 0.0001, 10, [784, 64, 64, 128, 256, 64, 64, 10], 128\n",
      "MNIST, skipMLP, Adam, CrossEntropy, 0.0001, 20, [784, 64, 64, 64, 10], 64\n",
      "MNIST, skipMLP, Adam, CrossEntropy, 0.0001, 20, [784, 64, 64, 64, 10], 128\n",
      "MNIST, skipMLP, Adam, CrossEntropy, 0.0001, 20, [784, 64, 64, 128, 256, 64, 64, 10], 64\n",
      "MNIST, skipMLP, Adam, CrossEntropy, 0.0001, 20, [784, 64, 64, 128, 256, 64, 64, 10], 128\n",
      "MNIST, simpleCNN, Adam, CrossEntropy, 0.01, 10, [784, 64, 64, 64, 10], 64\n",
      "MNIST, simpleCNN, Adam, CrossEntropy, 0.01, 10, [784, 64, 64, 64, 10], 128\n",
      "MNIST, simpleCNN, Adam, CrossEntropy, 0.01, 10, [784, 64, 64, 128, 256, 64, 64, 10], 64\n",
      "MNIST, simpleCNN, Adam, CrossEntropy, 0.01, 10, [784, 64, 64, 128, 256, 64, 64, 10], 128\n",
      "MNIST, simpleCNN, Adam, CrossEntropy, 0.01, 20, [784, 64, 64, 64, 10], 64\n",
      "MNIST, simpleCNN, Adam, CrossEntropy, 0.01, 20, [784, 64, 64, 64, 10], 128\n",
      "MNIST, simpleCNN, Adam, CrossEntropy, 0.01, 20, [784, 64, 64, 128, 256, 64, 64, 10], 64\n",
      "MNIST, simpleCNN, Adam, CrossEntropy, 0.01, 20, [784, 64, 64, 128, 256, 64, 64, 10], 128\n",
      "MNIST, simpleCNN, Adam, CrossEntropy, 0.001, 10, [784, 64, 64, 64, 10], 64\n",
      "MNIST, simpleCNN, Adam, CrossEntropy, 0.001, 10, [784, 64, 64, 64, 10], 128\n",
      "MNIST, simpleCNN, Adam, CrossEntropy, 0.001, 10, [784, 64, 64, 128, 256, 64, 64, 10], 64\n",
      "MNIST, simpleCNN, Adam, CrossEntropy, 0.001, 10, [784, 64, 64, 128, 256, 64, 64, 10], 128\n",
      "MNIST, simpleCNN, Adam, CrossEntropy, 0.001, 20, [784, 64, 64, 64, 10], 64\n",
      "MNIST, simpleCNN, Adam, CrossEntropy, 0.001, 20, [784, 64, 64, 64, 10], 128\n",
      "MNIST, simpleCNN, Adam, CrossEntropy, 0.001, 20, [784, 64, 64, 128, 256, 64, 64, 10], 64\n",
      "MNIST, simpleCNN, Adam, CrossEntropy, 0.001, 20, [784, 64, 64, 128, 256, 64, 64, 10], 128\n",
      "MNIST, simpleCNN, Adam, CrossEntropy, 0.0001, 10, [784, 64, 64, 64, 10], 64\n",
      "MNIST, simpleCNN, Adam, CrossEntropy, 0.0001, 10, [784, 64, 64, 64, 10], 128\n",
      "MNIST, simpleCNN, Adam, CrossEntropy, 0.0001, 10, [784, 64, 64, 128, 256, 64, 64, 10], 64\n",
      "MNIST, simpleCNN, Adam, CrossEntropy, 0.0001, 10, [784, 64, 64, 128, 256, 64, 64, 10], 128\n",
      "MNIST, simpleCNN, Adam, CrossEntropy, 0.0001, 20, [784, 64, 64, 64, 10], 64\n",
      "MNIST, simpleCNN, Adam, CrossEntropy, 0.0001, 20, [784, 64, 64, 64, 10], 128\n",
      "MNIST, simpleCNN, Adam, CrossEntropy, 0.0001, 20, [784, 64, 64, 128, 256, 64, 64, 10], 64\n",
      "MNIST, simpleCNN, Adam, CrossEntropy, 0.0001, 20, [784, 64, 64, 128, 256, 64, 64, 10], 128\n",
      "CIFAR, simpleMLP, Adam, CrossEntropy, 0.01, 10, [784, 64, 64, 64, 10], 64\n",
      "CIFAR, simpleMLP, Adam, CrossEntropy, 0.01, 10, [784, 64, 64, 64, 10], 128\n",
      "CIFAR, simpleMLP, Adam, CrossEntropy, 0.01, 10, [784, 64, 64, 128, 256, 64, 64, 10], 64\n",
      "CIFAR, simpleMLP, Adam, CrossEntropy, 0.01, 10, [784, 64, 64, 128, 256, 64, 64, 10], 128\n",
      "CIFAR, simpleMLP, Adam, CrossEntropy, 0.01, 20, [784, 64, 64, 64, 10], 64\n",
      "CIFAR, simpleMLP, Adam, CrossEntropy, 0.01, 20, [784, 64, 64, 64, 10], 128\n",
      "CIFAR, simpleMLP, Adam, CrossEntropy, 0.01, 20, [784, 64, 64, 128, 256, 64, 64, 10], 64\n",
      "CIFAR, simpleMLP, Adam, CrossEntropy, 0.01, 20, [784, 64, 64, 128, 256, 64, 64, 10], 128\n",
      "CIFAR, simpleMLP, Adam, CrossEntropy, 0.001, 10, [784, 64, 64, 64, 10], 64\n",
      "CIFAR, simpleMLP, Adam, CrossEntropy, 0.001, 10, [784, 64, 64, 64, 10], 128\n",
      "CIFAR, simpleMLP, Adam, CrossEntropy, 0.001, 10, [784, 64, 64, 128, 256, 64, 64, 10], 64\n",
      "CIFAR, simpleMLP, Adam, CrossEntropy, 0.001, 10, [784, 64, 64, 128, 256, 64, 64, 10], 128\n",
      "CIFAR, simpleMLP, Adam, CrossEntropy, 0.001, 20, [784, 64, 64, 64, 10], 64\n",
      "CIFAR, simpleMLP, Adam, CrossEntropy, 0.001, 20, [784, 64, 64, 64, 10], 128\n",
      "CIFAR, simpleMLP, Adam, CrossEntropy, 0.001, 20, [784, 64, 64, 128, 256, 64, 64, 10], 64\n",
      "CIFAR, simpleMLP, Adam, CrossEntropy, 0.001, 20, [784, 64, 64, 128, 256, 64, 64, 10], 128\n",
      "CIFAR, simpleMLP, Adam, CrossEntropy, 0.0001, 10, [784, 64, 64, 64, 10], 64\n",
      "CIFAR, simpleMLP, Adam, CrossEntropy, 0.0001, 10, [784, 64, 64, 64, 10], 128\n",
      "CIFAR, simpleMLP, Adam, CrossEntropy, 0.0001, 10, [784, 64, 64, 128, 256, 64, 64, 10], 64\n",
      "CIFAR, simpleMLP, Adam, CrossEntropy, 0.0001, 10, [784, 64, 64, 128, 256, 64, 64, 10], 128\n",
      "CIFAR, simpleMLP, Adam, CrossEntropy, 0.0001, 20, [784, 64, 64, 64, 10], 64\n",
      "CIFAR, simpleMLP, Adam, CrossEntropy, 0.0001, 20, [784, 64, 64, 64, 10], 128\n",
      "CIFAR, simpleMLP, Adam, CrossEntropy, 0.0001, 20, [784, 64, 64, 128, 256, 64, 64, 10], 64\n",
      "CIFAR, simpleMLP, Adam, CrossEntropy, 0.0001, 20, [784, 64, 64, 128, 256, 64, 64, 10], 128\n",
      "CIFAR, skipMLP, Adam, CrossEntropy, 0.01, 10, [784, 64, 64, 64, 10], 64\n",
      "CIFAR, skipMLP, Adam, CrossEntropy, 0.01, 10, [784, 64, 64, 64, 10], 128\n",
      "CIFAR, skipMLP, Adam, CrossEntropy, 0.01, 10, [784, 64, 64, 128, 256, 64, 64, 10], 64\n",
      "CIFAR, skipMLP, Adam, CrossEntropy, 0.01, 10, [784, 64, 64, 128, 256, 64, 64, 10], 128\n",
      "CIFAR, skipMLP, Adam, CrossEntropy, 0.01, 20, [784, 64, 64, 64, 10], 64\n",
      "CIFAR, skipMLP, Adam, CrossEntropy, 0.01, 20, [784, 64, 64, 64, 10], 128\n",
      "CIFAR, skipMLP, Adam, CrossEntropy, 0.01, 20, [784, 64, 64, 128, 256, 64, 64, 10], 64\n",
      "CIFAR, skipMLP, Adam, CrossEntropy, 0.01, 20, [784, 64, 64, 128, 256, 64, 64, 10], 128\n",
      "CIFAR, skipMLP, Adam, CrossEntropy, 0.001, 10, [784, 64, 64, 64, 10], 64\n",
      "CIFAR, skipMLP, Adam, CrossEntropy, 0.001, 10, [784, 64, 64, 64, 10], 128\n",
      "CIFAR, skipMLP, Adam, CrossEntropy, 0.001, 10, [784, 64, 64, 128, 256, 64, 64, 10], 64\n",
      "CIFAR, skipMLP, Adam, CrossEntropy, 0.001, 10, [784, 64, 64, 128, 256, 64, 64, 10], 128\n",
      "CIFAR, skipMLP, Adam, CrossEntropy, 0.001, 20, [784, 64, 64, 64, 10], 64\n",
      "CIFAR, skipMLP, Adam, CrossEntropy, 0.001, 20, [784, 64, 64, 64, 10], 128\n",
      "CIFAR, skipMLP, Adam, CrossEntropy, 0.001, 20, [784, 64, 64, 128, 256, 64, 64, 10], 64\n",
      "CIFAR, skipMLP, Adam, CrossEntropy, 0.001, 20, [784, 64, 64, 128, 256, 64, 64, 10], 128\n",
      "CIFAR, skipMLP, Adam, CrossEntropy, 0.0001, 10, [784, 64, 64, 64, 10], 64\n",
      "CIFAR, skipMLP, Adam, CrossEntropy, 0.0001, 10, [784, 64, 64, 64, 10], 128\n",
      "CIFAR, skipMLP, Adam, CrossEntropy, 0.0001, 10, [784, 64, 64, 128, 256, 64, 64, 10], 64\n",
      "CIFAR, skipMLP, Adam, CrossEntropy, 0.0001, 10, [784, 64, 64, 128, 256, 64, 64, 10], 128\n",
      "CIFAR, skipMLP, Adam, CrossEntropy, 0.0001, 20, [784, 64, 64, 64, 10], 64\n",
      "CIFAR, skipMLP, Adam, CrossEntropy, 0.0001, 20, [784, 64, 64, 64, 10], 128\n",
      "CIFAR, skipMLP, Adam, CrossEntropy, 0.0001, 20, [784, 64, 64, 128, 256, 64, 64, 10], 64\n",
      "CIFAR, skipMLP, Adam, CrossEntropy, 0.0001, 20, [784, 64, 64, 128, 256, 64, 64, 10], 128\n",
      "CIFAR, simpleCNN, Adam, CrossEntropy, 0.01, 10, [784, 64, 64, 64, 10], 64\n",
      "CIFAR, simpleCNN, Adam, CrossEntropy, 0.01, 10, [784, 64, 64, 64, 10], 128\n",
      "CIFAR, simpleCNN, Adam, CrossEntropy, 0.01, 10, [784, 64, 64, 128, 256, 64, 64, 10], 64\n",
      "CIFAR, simpleCNN, Adam, CrossEntropy, 0.01, 10, [784, 64, 64, 128, 256, 64, 64, 10], 128\n",
      "CIFAR, simpleCNN, Adam, CrossEntropy, 0.01, 20, [784, 64, 64, 64, 10], 64\n",
      "CIFAR, simpleCNN, Adam, CrossEntropy, 0.01, 20, [784, 64, 64, 64, 10], 128\n",
      "CIFAR, simpleCNN, Adam, CrossEntropy, 0.01, 20, [784, 64, 64, 128, 256, 64, 64, 10], 64\n",
      "CIFAR, simpleCNN, Adam, CrossEntropy, 0.01, 20, [784, 64, 64, 128, 256, 64, 64, 10], 128\n",
      "CIFAR, simpleCNN, Adam, CrossEntropy, 0.001, 10, [784, 64, 64, 64, 10], 64\n",
      "CIFAR, simpleCNN, Adam, CrossEntropy, 0.001, 10, [784, 64, 64, 64, 10], 128\n",
      "CIFAR, simpleCNN, Adam, CrossEntropy, 0.001, 10, [784, 64, 64, 128, 256, 64, 64, 10], 64\n",
      "CIFAR, simpleCNN, Adam, CrossEntropy, 0.001, 10, [784, 64, 64, 128, 256, 64, 64, 10], 128\n",
      "CIFAR, simpleCNN, Adam, CrossEntropy, 0.001, 20, [784, 64, 64, 64, 10], 64\n",
      "CIFAR, simpleCNN, Adam, CrossEntropy, 0.001, 20, [784, 64, 64, 64, 10], 128\n",
      "CIFAR, simpleCNN, Adam, CrossEntropy, 0.001, 20, [784, 64, 64, 128, 256, 64, 64, 10], 64\n",
      "CIFAR, simpleCNN, Adam, CrossEntropy, 0.001, 20, [784, 64, 64, 128, 256, 64, 64, 10], 128\n",
      "CIFAR, simpleCNN, Adam, CrossEntropy, 0.0001, 10, [784, 64, 64, 64, 10], 64\n",
      "CIFAR, simpleCNN, Adam, CrossEntropy, 0.0001, 10, [784, 64, 64, 64, 10], 128\n",
      "CIFAR, simpleCNN, Adam, CrossEntropy, 0.0001, 10, [784, 64, 64, 128, 256, 64, 64, 10], 64\n",
      "CIFAR, simpleCNN, Adam, CrossEntropy, 0.0001, 10, [784, 64, 64, 128, 256, 64, 64, 10], 128\n",
      "CIFAR, simpleCNN, Adam, CrossEntropy, 0.0001, 20, [784, 64, 64, 64, 10], 64\n",
      "CIFAR, simpleCNN, Adam, CrossEntropy, 0.0001, 20, [784, 64, 64, 64, 10], 128\n",
      "CIFAR, simpleCNN, Adam, CrossEntropy, 0.0001, 20, [784, 64, 64, 128, 256, 64, 64, 10], 64\n",
      "CIFAR, simpleCNN, Adam, CrossEntropy, 0.0001, 20, [784, 64, 64, 128, 256, 64, 64, 10], 128\n"
     ]
    }
   ],
   "source": [
    "datasets = ['MNIST', 'CIFAR']\n",
    "models = ['simpleMLP', 'skipMLP', 'simpleCNN']\n",
    "optimizers = ['Adam']\n",
    "losses = ['CrossEntropy']\n",
    "lrs = [0.01, 0.001, 0.0001]\n",
    "epochs_set = [10, 20]\n",
    "layers =[\n",
    "    [28*28, 64, 64, 64, 10],\n",
    "    [28*28, 64, 64, 128, 256, 64, 64, 10]\n",
    "]\n",
    "batch_sizes = [64, 128]\n",
    "#Seed?\n",
    "def test_all_models (datasets, models, optimizers, losses, lrs, epochs_set, layers, batch_sizes):\n",
    "    for dataset in datasets:\n",
    "        for model in models:\n",
    "            for opt in optimizers:\n",
    "                for loss in losses:\n",
    "                    for lr in lrs:\n",
    "                        for epochs in epochs_set:\n",
    "                            for layer_list in layers:\n",
    "                                for batch_size in batch_sizes:\n",
    "                                    print(f'Analyzing {dataset}, {model}, {opt}, {loss}, {lr}, {epochs}, {layer_list}, {batch_size}')\n",
    "                                    test_model(dataset, model, optimizer, loss, lr, epochs, layers, batch_size)                                    \n",
    "\n",
    "\n",
    "test_all_models(datasets, models, optimizers, losses, lrs, epochs_set, layers, batch_sizes)                             "
   ]
  },
  {
   "cell_type": "code",
   "execution_count": null,
   "id": "87a49ae2-94cb-4f6a-8ee4-efc80cc37de2",
   "metadata": {},
   "outputs": [],
   "source": [
    "def test_model (dataset, model, optimizer, loss, lr, epochs, layers, batch_size):\n",
    "    # Controllo se ho già fatto il training sul modello\n",
    "        #Controllo quale dataset\n",
    "\n",
    "    pass"
   ]
  }
 ],
 "metadata": {
  "kernelspec": {
   "display_name": "Python 3 (ipykernel)",
   "language": "python",
   "name": "python3"
  },
  "language_info": {
   "codemirror_mode": {
    "name": "ipython",
    "version": 3
   },
   "file_extension": ".py",
   "mimetype": "text/x-python",
   "name": "python",
   "nbconvert_exporter": "python",
   "pygments_lexer": "ipython3",
   "version": "3.13.2"
  }
 },
 "nbformat": 4,
 "nbformat_minor": 5
}
