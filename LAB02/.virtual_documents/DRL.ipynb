





import gymnasium as gym
import torch
import torch.nn as nn
import torch.optim as optim
import torch.nn.functional as F

# Instantiate a rendering and a non-rendering environment.
env_render = gym.make('CartPole-v1', render_mode='human')
env = gym.make('CartPole-v1')


# Your code here. Call .reset() on the environment and inspect the output. Also, check out the observation_space.





# Your code here. You should be able to train an agent to solve Cartpole. This will be our starting point.





# Your code here.











# Your code here. Modify your implementation of `REINFORCE` to optionally use the standardize baseline.





# Your code here.



